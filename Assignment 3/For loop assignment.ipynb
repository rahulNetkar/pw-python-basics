{
 "cells": [
  {
   "cell_type": "code",
   "execution_count": 1,
   "id": "77865e8b",
   "metadata": {},
   "outputs": [
    {
     "name": "stdout",
     "output_type": "stream",
     "text": [
      "0\n",
      "1\n",
      "2\n",
      "3\n",
      "4\n",
      "5\n",
      "6\n",
      "7\n",
      "8\n",
      "9\n",
      "10\n"
     ]
    }
   ],
   "source": [
    "'''1. Write a Python program to print the numbers from 1 to 10 using a `for` loop.'''\n",
    "\n",
    "for i in range(0, 11):\n",
    "    print(i)"
   ]
  },
  {
   "cell_type": "code",
   "execution_count": 2,
   "id": "c56b7aa1",
   "metadata": {},
   "outputs": [
    {
     "name": "stdout",
     "output_type": "stream",
     "text": [
      "Sum is: 61\n"
     ]
    }
   ],
   "source": [
    "'''2. Create a program that calculates the sum of all numbers in a list using a `for` loop.'''\n",
    "\n",
    "list_ = [2, 4, 6, 8, 9, 11, 21]\n",
    "\n",
    "sum_ = 0\n",
    "for i in list_:\n",
    "    sum_ = sum_ + i\n",
    "    \n",
    "print(f'Sum is: {sum_}')    "
   ]
  },
  {
   "cell_type": "code",
   "execution_count": 5,
   "id": "c012de18",
   "metadata": {},
   "outputs": [
    {
     "name": "stdout",
     "output_type": "stream",
     "text": [
      "h\n",
      "i\n",
      "o\n",
      "a\n",
      "f\n",
      "a\n",
      "j\n",
      "k\n",
      "h\n",
      "s\n",
      "a\n"
     ]
    }
   ],
   "source": [
    "''' 3. Write a program to print the characters of a string in reverse order using a `for` loop '''\n",
    "\n",
    "string = \"ashkjafaoih\"\n",
    "\n",
    "for i in reversed(string):\n",
    "    print(i)"
   ]
  },
  {
   "cell_type": "code",
   "execution_count": 12,
   "id": "ff719fd8",
   "metadata": {},
   "outputs": [
    {
     "name": "stdout",
     "output_type": "stream",
     "text": [
      "Enter a number: 5\n",
      "Factorial of 5 is 120\n"
     ]
    }
   ],
   "source": [
    "''' 4. Develop a program that finds the factorial of a given number using a `for` loop. '''\n",
    "\n",
    "num = int(input(\"Enter a number: \"))\n",
    "\n",
    "fact = 1\n",
    "\n",
    "for i in range(1, num+1):\n",
    "    fact = fact * i\n",
    "    \n",
    "print(f\"Factorial of {num} is {fact}\")    "
   ]
  },
  {
   "cell_type": "code",
   "execution_count": 13,
   "id": "7b52d2a2",
   "metadata": {},
   "outputs": [
    {
     "name": "stdout",
     "output_type": "stream",
     "text": [
      "Enter a number: 5\n",
      "5\n",
      "10\n",
      "15\n",
      "20\n",
      "25\n",
      "30\n",
      "35\n",
      "40\n",
      "45\n",
      "50\n"
     ]
    }
   ],
   "source": [
    "''' 5. Create a program to print the multiplication table of a given number using a `for` loop. '''\n",
    "\n",
    "num = int(input(\"Enter a number: \"))\n",
    "\n",
    "for i in range(1,11):\n",
    "    print(num*i)"
   ]
  },
  {
   "cell_type": "code",
   "execution_count": 16,
   "id": "1ac8cab7",
   "metadata": {},
   "outputs": [
    {
     "name": "stdout",
     "output_type": "stream",
     "text": [
      "There are 8 even numbers and 6 odd numbers in the list\n"
     ]
    }
   ],
   "source": [
    "'''6. Write a program that counts the number of even and odd numbers in a list using a `for` loop.'''\n",
    "\n",
    "list_ = [2, 3, 4, 5, 6, 7, 8, 9, 11, 12, 13, 14, 16, 18]\n",
    "\n",
    "even = 0\n",
    "odd = 0\n",
    "\n",
    "for i in list_:\n",
    "    if i%2 == 0:\n",
    "        even += 1\n",
    "    else:\n",
    "        odd += 1\n",
    "\n",
    "print(f'There are {even} even numbers and {odd} odd numbers in the list')        "
   ]
  },
  {
   "cell_type": "code",
   "execution_count": 17,
   "id": "f1c5786a",
   "metadata": {},
   "outputs": [
    {
     "name": "stdout",
     "output_type": "stream",
     "text": [
      "1\n",
      "4\n",
      "9\n",
      "16\n",
      "25\n"
     ]
    }
   ],
   "source": [
    "'''7. Develop a program that prints the squares of numbers from 1 to 5 using a `for` loop.'''\n",
    "\n",
    "for i in range(1, 6):\n",
    "    print(i*i)"
   ]
  },
  {
   "cell_type": "code",
   "execution_count": 18,
   "id": "a4998392",
   "metadata": {},
   "outputs": [
    {
     "name": "stdout",
     "output_type": "stream",
     "text": [
      "Length of the string is 8\n"
     ]
    }
   ],
   "source": [
    "'''8. Create a program to find the length of a string without using the `len()` function. '''\n",
    "\n",
    "string = 'pwskills'\n",
    "count = 0\n",
    "for i in string:\n",
    "    count += 1\n",
    "    \n",
    "print(f'Length of the string is {count}')    "
   ]
  },
  {
   "cell_type": "code",
   "execution_count": 20,
   "id": "0f63ec20",
   "metadata": {},
   "outputs": [
    {
     "name": "stdout",
     "output_type": "stream",
     "text": [
      "Average is: 9.142857142857142\n"
     ]
    }
   ],
   "source": [
    "'''9. Write a program that calculates the average of a list of numbers using a `for` loop.'''\n",
    "\n",
    "list_ = [2, 3, 4, 5, 6, 7, 8, 9, 11, 12, 13, 14, 16, 18]\n",
    "\n",
    "sum_ = 0\n",
    "\n",
    "for i in list_:\n",
    "    sum_ += i\n",
    "\n",
    "print(f'Average is: {sum_/len(list_)}')    "
   ]
  },
  {
   "cell_type": "code",
   "execution_count": 6,
   "id": "a5a6c2db",
   "metadata": {},
   "outputs": [
    {
     "name": "stdout",
     "output_type": "stream",
     "text": [
      "Enter a number: 10\n",
      "[0, 1, 1, 2, 3, 5, 8, 13, 21, 34]\n"
     ]
    }
   ],
   "source": [
    "'''10. Develop a program that prints the first `n` Fibonacci numbers using a `for` loop.'''\n",
    "\n",
    "num = int(input(\"Enter a number: \"))\n",
    "\n",
    "fib = [0, 1]\n",
    "\n",
    "if num == 1:\n",
    "    print(f'Fibonacci sequence for first {num} numbers is {fib[0]}')\n",
    "else:    \n",
    "    for i in range(2, num):\n",
    "        next_num = fib[-1] + fib[-2]\n",
    "        fib.append(next_num)\n",
    "    \n",
    "    print(fib)\n",
    "    "
   ]
  },
  {
   "cell_type": "code",
   "execution_count": 17,
   "id": "3009bb53",
   "metadata": {},
   "outputs": [
    {
     "name": "stdout",
     "output_type": "stream",
     "text": [
      "There are duplicates in the list\n"
     ]
    }
   ],
   "source": [
    "'''11. Write a program to check if a given list contains any duplicates using a `for` loop. '''\n",
    "\n",
    "list_ = [3, 1, 8, 5, 12, 11, 10, 16, 2, 2]\n",
    "\n",
    "n = len(list_)\n",
    "\n",
    "is_duplicate = False\n",
    "\n",
    "for i in range(n):\n",
    "    for j in range(i+1, n):\n",
    "        if list_[i] == list_[j]:\n",
    "            is_duplicate = True\n",
    "                \n",
    "if is_duplicate:\n",
    "    print(\"There are duplicates in the list\")\n",
    "else:\n",
    "    print(\"There no duplicates in the list\")"
   ]
  },
  {
   "cell_type": "code",
   "execution_count": 16,
   "id": "6c8bcee0",
   "metadata": {},
   "outputs": [
    {
     "name": "stdout",
     "output_type": "stream",
     "text": [
      "Enter a number: 1\n",
      "Enter a number: 20\n",
      "2\n",
      "3\n",
      "5\n",
      "7\n",
      "11\n",
      "13\n",
      "17\n",
      "19\n"
     ]
    }
   ],
   "source": [
    "'''12. Create a program that prints the prime numbers in a given range using a `for` loop. '''\n",
    "\n",
    "lower = int(input(\"Enter a number: \"))\n",
    "upper = int(input(\"Enter a number: \"))\n",
    "\n",
    "for num in range(lower, upper+1):\n",
    "    if num > 1:\n",
    "        for i in range(2, num):\n",
    "            if num%i==0:\n",
    "                break\n",
    "        else:\n",
    "            print(num)\n",
    "\n"
   ]
  },
  {
   "cell_type": "code",
   "execution_count": 26,
   "id": "a108cd84",
   "metadata": {},
   "outputs": [
    {
     "name": "stdout",
     "output_type": "stream",
     "text": [
      "Enter a string: Hi I am Rahul\n",
      "5\n"
     ]
    }
   ],
   "source": [
    "'''13. Develop a program that counts the number of vowels in a string using a `for` loop.'''\n",
    "\n",
    "string = input(\"Enter a string: \").lower()\n",
    "\n",
    "count = 0\n",
    "\n",
    "for i in string:\n",
    "    if i in 'aeiou':\n",
    "        count += 1\n",
    "        \n",
    "print(count)        "
   ]
  },
  {
   "cell_type": "code",
   "execution_count": 3,
   "id": "fb25ec51",
   "metadata": {},
   "outputs": [
    {
     "name": "stdout",
     "output_type": "stream",
     "text": [
      "The maximum element in the list is 10\n"
     ]
    }
   ],
   "source": [
    "'''14. Write a program to find the maximum element in a 2D list using a nested `for` loop. '''\n",
    "\n",
    "list_ = [\n",
    "    [1, 2, 3],\n",
    "    [4, 10, 6],\n",
    "    [7, 8, 9]\n",
    "]\n",
    "\n",
    "n = len(list_)\n",
    "max_element = list_[0][0]\n",
    "\n",
    "for row in list_:\n",
    "    for element in row:\n",
    "        if element > max_element:\n",
    "            max_element = element\n",
    "\n",
    "print(f\"The maximum element in the list is {max_element}\")"
   ]
  },
  {
   "cell_type": "code",
   "execution_count": 10,
   "id": "de9070d6",
   "metadata": {},
   "outputs": [
    {
     "name": "stdout",
     "output_type": "stream",
     "text": [
      "Enter the number which you want to remove: 2\n",
      "[3, 1, 8, 5, 12, 11, 10, 16, 5, 4, 3, 7, 11, 33, 7, 5, 0]\n"
     ]
    }
   ],
   "source": [
    "''' 15. Create a program that removes all occurrences of a specific element from a list using a `for` loop '''\n",
    "\n",
    "list_ = [3, 1, 8, 5, 12, 11, 10, 16, 2, 2, 5, 4, 3, 2, 7, 11, 33, 2, 7, 5, 0]\n",
    "\n",
    "num = int(input(\"Enter the number which you want to remove: \"))\n",
    "\n",
    "result_list = [ele for ele in list_ if ele != num]\n",
    "\n",
    "print(result_list)"
   ]
  },
  {
   "cell_type": "code",
   "execution_count": 14,
   "id": "5d8a783f",
   "metadata": {},
   "outputs": [
    {
     "name": "stdout",
     "output_type": "stream",
     "text": [
      "Multiplication table for 1:\n",
      "1 * 1 = 1\n",
      "1 * 2 = 2\n",
      "1 * 3 = 3\n",
      "1 * 4 = 4\n",
      "1 * 5 = 5\n",
      "1 * 6 = 6\n",
      "1 * 7 = 7\n",
      "1 * 8 = 8\n",
      "1 * 9 = 9\n",
      "1 * 10 = 10\n",
      "\n",
      "Multiplication table for 2:\n",
      "2 * 1 = 2\n",
      "2 * 2 = 4\n",
      "2 * 3 = 6\n",
      "2 * 4 = 8\n",
      "2 * 5 = 10\n",
      "2 * 6 = 12\n",
      "2 * 7 = 14\n",
      "2 * 8 = 16\n",
      "2 * 9 = 18\n",
      "2 * 10 = 20\n",
      "\n",
      "Multiplication table for 3:\n",
      "3 * 1 = 3\n",
      "3 * 2 = 6\n",
      "3 * 3 = 9\n",
      "3 * 4 = 12\n",
      "3 * 5 = 15\n",
      "3 * 6 = 18\n",
      "3 * 7 = 21\n",
      "3 * 8 = 24\n",
      "3 * 9 = 27\n",
      "3 * 10 = 30\n",
      "\n",
      "Multiplication table for 4:\n",
      "4 * 1 = 4\n",
      "4 * 2 = 8\n",
      "4 * 3 = 12\n",
      "4 * 4 = 16\n",
      "4 * 5 = 20\n",
      "4 * 6 = 24\n",
      "4 * 7 = 28\n",
      "4 * 8 = 32\n",
      "4 * 9 = 36\n",
      "4 * 10 = 40\n",
      "\n",
      "Multiplication table for 5:\n",
      "5 * 1 = 5\n",
      "5 * 2 = 10\n",
      "5 * 3 = 15\n",
      "5 * 4 = 20\n",
      "5 * 5 = 25\n",
      "5 * 6 = 30\n",
      "5 * 7 = 35\n",
      "5 * 8 = 40\n",
      "5 * 9 = 45\n",
      "5 * 10 = 50\n",
      "\n"
     ]
    }
   ],
   "source": [
    "''' 16. Develop a program that generates a multiplication table for numbers from 1 to 5 using a nested `for` loop '''\n",
    "\n",
    "for i in range(1, 6):\n",
    "    print(f\"Multiplication table for {i}:\")\n",
    "    for j in range(1, 11): \n",
    "        print(f\"{i} * {j} = {i * j}\")\n",
    "    print()\n",
    "\n"
   ]
  },
  {
   "cell_type": "code",
   "execution_count": 17,
   "id": "3bc90b44",
   "metadata": {},
   "outputs": [
    {
     "name": "stdout",
     "output_type": "stream",
     "text": [
      "[0.0, 20.0, 23.89, 26.67, 36.67, 37.78, 18.33, 22.22]\n"
     ]
    }
   ],
   "source": [
    "''' 17. Write a program that converts a list of Fahrenheit temperatures to Celsius using a `for` loop. '''\n",
    "\n",
    "fahrenheit_temp = [32, 68, 75, 80, 98, 100, 65, 72]\n",
    "\n",
    "celsius_temp = []\n",
    "\n",
    "for i in fahrenheit_temp:\n",
    "    celsius_temp.append(round(5/9 * (i - 32), 2))\n",
    "    \n",
    "print(celsius_temp)"
   ]
  },
  {
   "cell_type": "code",
   "execution_count": 18,
   "id": "73ec2bfb",
   "metadata": {},
   "outputs": [
    {
     "name": "stdout",
     "output_type": "stream",
     "text": [
      "9\n",
      "12\n",
      "15\n",
      "18\n",
      "21\n"
     ]
    }
   ],
   "source": [
    "''' 18. Create a program to print the common elements from two lists using a `for` loop. '''\n",
    "\n",
    "list_1 = [3, 6, 9, 12, 15, 18, 21]\n",
    "list_2 = [9, 12, 15, 18, 21, 24, 27]\n",
    "\n",
    "for i in list_1:\n",
    "    if i in list_2:\n",
    "        print(i)"
   ]
  },
  {
   "cell_type": "code",
   "execution_count": 26,
   "id": "bd3b6ce7",
   "metadata": {},
   "outputs": [
    {
     "name": "stdout",
     "output_type": "stream",
     "text": [
      "Enter the size of the triangle: 10\n",
      "* \n",
      "* * \n",
      "* * * \n",
      "* * * * \n",
      "* * * * * \n",
      "* * * * * * \n",
      "* * * * * * * \n",
      "* * * * * * * * \n",
      "* * * * * * * * * \n",
      "* * * * * * * * * * \n"
     ]
    }
   ],
   "source": [
    "''' 19. Develop a program that prints the pattern of right-angled triangles using a `for` loop. Use ‘*’ to draw the pattern '''\n",
    "\n",
    "num = int(input(\"Enter the size of the triangle: \"))\n",
    "\n",
    "for i in range(1, num+1):\n",
    "    for j in range(i):\n",
    "        print(\"*\", end=' ')\n",
    "    print()    "
   ]
  },
  {
   "cell_type": "code",
   "execution_count": 4,
   "id": "84f5d049",
   "metadata": {},
   "outputs": [
    {
     "name": "stdout",
     "output_type": "stream",
     "text": [
      "Enter first number: 12\n",
      "Enter second number: 28\n",
      "GCD of 12 and 28 is 4\n"
     ]
    }
   ],
   "source": [
    "''' 20. Write a program to find the greatest common divisor (GCD) of two numbers using a `for` loop. '''\n",
    "\n",
    "a = int(input(\"Enter first number: \"))\n",
    "b = int(input(\"Enter second number: \"))\n",
    "\n",
    "gcd = 1\n",
    "\n",
    "if a > b:\n",
    "    a, b = b, a\n",
    "    \n",
    "for num in range(1, a+1):\n",
    "    if (a%num == 0 and b%num == 0):\n",
    "        gcd = num\n",
    "\n",
    "print(f'GCD of {a} and {b} is {gcd}')"
   ]
  },
  {
   "cell_type": "code",
   "execution_count": 10,
   "id": "bac743c7",
   "metadata": {},
   "outputs": [
    {
     "data": {
      "text/plain": [
       "[6, 9, 21, 30, 15]"
      ]
     },
     "execution_count": 10,
     "metadata": {},
     "output_type": "execute_result"
    }
   ],
   "source": [
    "''' 21. Create a program that calculates the sum of the digits of numbers in a list using a list comprehension. '''\n",
    "\n",
    "numbers = [123, 45, 678, 9876, 54321]\n",
    "\n",
    "sum_list = [sum(int(digit) for digit in str(num) if digit.isdigit()) for num in numbers]\n",
    "\n",
    "sum_list"
   ]
  },
  {
   "cell_type": "code",
   "execution_count": 3,
   "id": "9a8d262a",
   "metadata": {},
   "outputs": [
    {
     "name": "stdout",
     "output_type": "stream",
     "text": [
      "Enter the number: 10\n"
     ]
    },
    {
     "data": {
      "text/plain": [
       "[2, 5, 5, 10, 10]"
      ]
     },
     "execution_count": 3,
     "metadata": {},
     "output_type": "execute_result"
    }
   ],
   "source": [
    "''' 22. Write a program to find the prime factors of a given number using a `for` loop and list comprehension '''\n",
    "\n",
    "number = int(input(\"Enter the number: \"))\n",
    "\n",
    "factors = [num for num in range(2, number+1) if number%num == 0]\n",
    "\n",
    "prime_factors = []\n",
    "\n",
    "for i in factors:\n",
    "    if i == 2:\n",
    "        prime_factors.append(i) \n",
    "    elif i > 2:\n",
    "        for j in range(3, i):\n",
    "            if i%j == 0:\n",
    "                break\n",
    "            else:\n",
    "                prime_factors.append(i)\n",
    "            \n",
    "prime_factors"
   ]
  },
  {
   "cell_type": "code",
   "execution_count": 4,
   "id": "f3963893",
   "metadata": {},
   "outputs": [
    {
     "data": {
      "text/plain": [
       "[2, 5, 7, 8, 11]"
      ]
     },
     "execution_count": 4,
     "metadata": {},
     "output_type": "execute_result"
    }
   ],
   "source": [
    "'''23. Develop a program that extracts unique elements from a list and stores them in a new list using a list comprehension.'''\n",
    "\n",
    "elements = [1,1,1,2,3,3,4,4,5,6,6,6,6,7,8,10,10,11]\n",
    "\n",
    "uni_elements = [element for element in elements if elements.count(element) == 1]\n",
    "\n",
    "uni_elements"
   ]
  },
  {
   "cell_type": "code",
   "execution_count": 9,
   "id": "dc9aabca",
   "metadata": {},
   "outputs": [
    {
     "name": "stdout",
     "output_type": "stream",
     "text": [
      "Enter the number of digits in palindrome: 3\n",
      "[101, 111, 121, 131, 141, 151, 161, 171, 181, 191, 202, 212, 222, 232, 242, 252, 262, 272, 282, 292, 303, 313, 323, 333, 343, 353, 363, 373, 383, 393, 404, 414, 424, 434, 444, 454, 464, 474, 484, 494, 505, 515, 525, 535, 545, 555, 565, 575, 585, 595, 606, 616, 626, 636, 646, 656, 666, 676, 686, 696, 707, 717, 727, 737, 747, 757, 767, 777, 787, 797, 808, 818, 828, 838, 848, 858, 868, 878, 888, 898, 909, 919, 929, 939, 949, 959, 969, 979, 989, 999]\n"
     ]
    }
   ],
   "source": [
    "''' 24. Create a program that generates a list of all palindromic numbers up to a specified limit using a list \n",
    "comprehension. '''\n",
    "\n",
    "k = int(input(\"Enter the number of digits in palindrome: \"))\n",
    "\n",
    "palindrome_list = [num for num in range(pow(10,k-1), pow(10,k)) if str(num) == str(num)[::-1]]\n",
    "\n",
    "print(palindrome_list)"
   ]
  },
  {
   "cell_type": "code",
   "execution_count": 1,
   "id": "1f99147b",
   "metadata": {},
   "outputs": [
    {
     "name": "stdout",
     "output_type": "stream",
     "text": [
      "[1, 2, 3, 4, 5, 6, 7, 8, 9]\n"
     ]
    }
   ],
   "source": [
    "''' 25. Write a program to flatten a nested list using list comprehension. '''\n",
    "\n",
    "nested_list = [\n",
    "    [1, 2, 3],\n",
    "    [4, 5, 6],\n",
    "    [7, 8, 9]\n",
    "]\n",
    "\n",
    "flatten = [val for sublist in nested_list for val in sublist]\n",
    "\n",
    "print(flatten)"
   ]
  },
  {
   "cell_type": "code",
   "execution_count": 2,
   "id": "3b206478",
   "metadata": {},
   "outputs": [
    {
     "name": "stdout",
     "output_type": "stream",
     "text": [
      "[58]\n",
      "[65]\n"
     ]
    }
   ],
   "source": [
    "''' 26. Develop a program that computes the sum of even and odd numbers in a list separately using list\n",
    "comprehension.\n",
    " '''\n",
    "\n",
    "list_ = [10, 11, 12, 13, 14, 15, 16, 17, 1, 2, 3, 4, 5]\n",
    "\n",
    "evens = [sum(x for x in list_ if x%2==0)]\n",
    "odds = [sum(x for x in list_ if x%2!=0)]\n",
    "\n",
    "print(evens)\n",
    "print(odds)"
   ]
  },
  {
   "cell_type": "code",
   "execution_count": 1,
   "id": "b66d0cca",
   "metadata": {},
   "outputs": [
    {
     "data": {
      "text/plain": [
       "[1, 9, 25, 49, 81]"
      ]
     },
     "execution_count": 1,
     "metadata": {},
     "output_type": "execute_result"
    }
   ],
   "source": [
    "''' 27. Create a program that generates a list of squares of odd numbers between 1 and 10 using list\n",
    "comprehension.\n",
    " '''\n",
    "\n",
    "sqrs = [i**2 for i in range(1,11) if i%2 != 0]\n",
    "\n",
    "sqrs"
   ]
  },
  {
   "cell_type": "code",
   "execution_count": 2,
   "id": "4456a51c",
   "metadata": {},
   "outputs": [
    {
     "name": "stdout",
     "output_type": "stream",
     "text": [
      "{'apple': 10, 'banana': 20, 'cherry': 30}\n"
     ]
    }
   ],
   "source": [
    "'''28. Write a program that combines two lists into a dictionary using list comprehension'''\n",
    "\n",
    "list1 = ['apple', 'banana', 'cherry']\n",
    "\n",
    "list2 = [10, 20, 30]\n",
    "\n",
    "dict_result = {key: value for key, value in zip(list1, list2)}\n",
    "\n",
    "print(dict_result)"
   ]
  },
  {
   "cell_type": "code",
   "execution_count": 3,
   "id": "8b11ee33",
   "metadata": {},
   "outputs": [
    {
     "data": {
      "text/plain": [
       "['a', 'a', 'i', 'e', 'e']"
      ]
     },
     "execution_count": 3,
     "metadata": {},
     "output_type": "execute_result"
    }
   ],
   "source": [
    "'''29. Develop a program that extracts the vowels from a string and stores them in a list using list comprehension.'''\n",
    "\n",
    "string = \"Data Science\"\n",
    "\n",
    "vowels = [i for i in string.lower() if i in 'aeiou']\n",
    "\n",
    "vowels"
   ]
  },
  {
   "cell_type": "code",
   "execution_count": 6,
   "id": "ed037ac6",
   "metadata": {},
   "outputs": [
    {
     "data": {
      "text/plain": [
       "['1', '0', '1', '8']"
      ]
     },
     "execution_count": 6,
     "metadata": {},
     "output_type": "execute_result"
    }
   ],
   "source": [
    "'''30. Create a program that removes all non-numeric characters from a list of strings using list comprehension.'''\n",
    "\n",
    "string = \"Data Science 101 class starts at 8 am\"\n",
    "\n",
    "num = [i for i in string if i.isdigit()]\n",
    "\n",
    "num"
   ]
  },
  {
   "cell_type": "code",
   "execution_count": 11,
   "id": "cd74ef9d",
   "metadata": {},
   "outputs": [
    {
     "data": {
      "text/plain": [
       "[2, 3, 5, 7, 11, 13]"
      ]
     },
     "execution_count": 11,
     "metadata": {},
     "output_type": "execute_result"
    }
   ],
   "source": [
    "'''31. Write a program to generate a list of prime numbers using the Sieve of Eratosthenes algorithm and list comprehension.'''\n",
    "\n",
    "num = int(input(\"Enter the number: \"))\n",
    "\n",
    "numbers = [True for i in range(num+1)]\n",
    "\n",
    "m = 2\n",
    "\n",
    "while(m*m <= num):\n",
    "    if (numbers[m] == True):\n",
    "        for i in range(m * m, num + 1, m):\n",
    "            numbers[i] = False\n",
    "            \n",
    "    m += 1\n",
    "    \n",
    "primes = [p for p in range(2, num+1) if numbers[p]]\n",
    "\n",
    "primes        "
   ]
  },
  {
   "cell_type": "code",
   "execution_count": 13,
   "id": "6a310e98",
   "metadata": {},
   "outputs": [
    {
     "name": "stdout",
     "output_type": "stream",
     "text": [
      "[(3, 4, 5), (5, 12, 13), (6, 8, 10), (7, 24, 25), (8, 15, 17), (9, 12, 15), (9, 40, 41), (10, 24, 26), (11, 60, 61), (12, 16, 20), (12, 35, 37), (13, 84, 85), (14, 48, 50), (15, 20, 25), (15, 36, 39), (16, 30, 34), (16, 63, 65), (18, 24, 30), (18, 80, 82), (20, 21, 29), (20, 48, 52), (21, 28, 35), (21, 72, 75), (24, 32, 40), (24, 45, 51), (24, 70, 74), (25, 60, 65), (27, 36, 45), (28, 45, 53), (28, 96, 100), (30, 40, 50), (30, 72, 78), (32, 60, 68), (33, 44, 55), (33, 56, 65), (35, 84, 91), (36, 48, 60), (36, 77, 85), (39, 52, 65), (39, 80, 89), (40, 42, 58), (40, 75, 85), (42, 56, 70), (45, 60, 75), (48, 55, 73), (48, 64, 80), (51, 68, 85), (54, 72, 90), (57, 76, 95), (60, 63, 87), (60, 80, 100), (65, 72, 97)]\n"
     ]
    }
   ],
   "source": [
    "'''32. Create a program that generates a list of all Pythagorean triplets up to a specified limit using list comprehension.'''\n",
    "\n",
    "limit = int(input(\"Enter the number: \"))\n",
    "\n",
    "result = [(a, b, int(c)) for a in range(1, limit+1) for b in range(a, limit+1) for c in range(b, limit+1) if abs(a**2 + b**2 - c**2) < 1e-9]\n",
    "\n",
    "print(result)"
   ]
  },
  {
   "cell_type": "code",
   "execution_count": 14,
   "id": "298b1c83",
   "metadata": {},
   "outputs": [
    {
     "name": "stdout",
     "output_type": "stream",
     "text": [
      "[(1, 2), (1, 4), (1, 6), (1, 8), (1, 10), (3, 2), (3, 4), (3, 6), (3, 8), (3, 10), (5, 2), (5, 4), (5, 6), (5, 8), (5, 10), (7, 2), (7, 4), (7, 6), (7, 8), (7, 10), (9, 2), (9, 4), (9, 6), (9, 8), (9, 10)]\n"
     ]
    }
   ],
   "source": [
    "'''33. Develop a program that generates a list of all possible combinations of two lists using list comprehension.'''\n",
    "\n",
    "list1 = [1, 3, 5, 7, 9]\n",
    "list2 = [2, 4, 6, 8, 10]\n",
    "\n",
    "result = [(x,y) for x in list1 for y in list2]\n",
    "\n",
    "print(result)"
   ]
  },
  {
   "cell_type": "code",
   "execution_count": 1,
   "id": "4a9070b4",
   "metadata": {},
   "outputs": [
    {
     "name": "stdout",
     "output_type": "stream",
     "text": [
      "Mean: 5.5\n",
      "Median: 5.5\n",
      "Mode: 5\n"
     ]
    }
   ],
   "source": [
    "'''34. Write a program that calculates the mean, median, and mode of a list of numbers using list comprehension.'''\n",
    "\n",
    "numbers = [7, 3, 8, 5, 2, 9, 5, 6, 4, 6]\n",
    "\n",
    "# Calculating mean \n",
    "mean = sum(numbers) / len(numbers)\n",
    "\n",
    "# Calculating median\n",
    "sorted_numbers = sorted(numbers)\n",
    "n = len(sorted_numbers)\n",
    "median = (sorted_numbers[n//2] + sorted_numbers[(n-1)//2]) / 2\n",
    "\n",
    "# Calculating mode\n",
    "mode = max(set(numbers), key=numbers.count)\n",
    "\n",
    "print(f\"Mean: {mean}\")\n",
    "print(f\"Median: {median}\")\n",
    "print(f\"Mode: {mode}\")\n",
    "\n",
    "\n"
   ]
  },
  {
   "cell_type": "code",
   "execution_count": 7,
   "id": "62f76e49",
   "metadata": {},
   "outputs": [
    {
     "name": "stdout",
     "output_type": "stream",
     "text": [
      "Enter number of rows: 3\n"
     ]
    }
   ],
   "source": [
    "'''35. Create a program that generates Pascal's triangle up to a specified number of rows using list comprehension.'''\n",
    "\n",
    "num_rows = int(input(\"Enter number of rows: \"))\n",
    "\n",
    "\n"
   ]
  },
  {
   "cell_type": "code",
   "execution_count": 5,
   "id": "d0883044",
   "metadata": {},
   "outputs": [
    {
     "name": "stdout",
     "output_type": "stream",
     "text": [
      "Factorial Sums for numbers from 1 to 5: [1, 2, 6, 6, 3]\n"
     ]
    }
   ],
   "source": [
    "'''36. Develop a program that calculates the sum of the digits of a factorial of numbers from 1 to 5 using list \n",
    "comprehension.'''\n",
    "\n",
    "# Function to calculate factorial\n",
    "def factorial(n):\n",
    "    return 1 if n == 0 else n * factorial(n - 1)\n",
    "\n",
    "# Calculate factorial and sum of its digits for numbers from 1 to 5 using list comprehension\n",
    "factorial_sums = [sum(int(digit) for digit in str(factorial(i))) for i in range(1, 6)]\n",
    "\n",
    "print(\"Factorial Sums for numbers from 1 to 5:\", factorial_sums)\n"
   ]
  },
  {
   "cell_type": "code",
   "execution_count": 6,
   "id": "cf27c1b6",
   "metadata": {},
   "outputs": [
    {
     "name": "stdout",
     "output_type": "stream",
     "text": [
      "The longest word in the sentence is: little\n"
     ]
    }
   ],
   "source": [
    "'''37. Write a program that finds the longest word in a sentence using list comprehension'''\n",
    "\n",
    "sentence = \"Merry had a little lamb\"\n",
    "\n",
    "# Split the sentence into words and find the longest word using list comprehension\n",
    "longest_word = max((word for word in sentence.split()), key=len)\n",
    "\n",
    "print(\"The longest word in the sentence is:\", longest_word)\n",
    "\n"
   ]
  },
  {
   "cell_type": "code",
   "execution_count": 10,
   "id": "68261295",
   "metadata": {},
   "outputs": [
    {
     "name": "stdout",
     "output_type": "stream",
     "text": [
      "Strings with more than three vowels: []\n"
     ]
    }
   ],
   "source": [
    "'''38. Create a program that filters a list of strings to include only those with more than three vowels using list\n",
    "comprehension.'''\n",
    "\n",
    "strings = [\"apple\", \"pear\", \"grape\", \"banana\", \"xyz\", \"fgh\", \"lmn\", \"transparent\", \"mobile\"]\n",
    "\n",
    "vowels = [string for string in strings if sum(1 for char in string.lower() if char in 'aeiou') > 3]\n",
    "\n",
    "print(\"Strings with more than three vowels:\", vowels)"
   ]
  },
  {
   "cell_type": "code",
   "execution_count": 12,
   "id": "8453ec1c",
   "metadata": {},
   "outputs": [
    {
     "name": "stdout",
     "output_type": "stream",
     "text": [
      "[1, 2, 3, 4, 5, 6, 7, 8, 9, 1, 2, 3, 4, 5, 6, 7, 8, 9, 10, 2, 3, 4, 5, 6, 7, 8, 9, 10, 11, 3, 4, 5, 6, 7, 8, 9, 10, 11, 12, 4, 5, 6, 7, 8, 9, 10, 11, 12, 13, 5, 6, 7, 8, 9, 10, 11, 12, 13, 14, 6, 7, 8, 9, 10, 11, 12, 13, 14, 15, 7, 8, 9, 10, 11, 12, 13, 14, 15, 16, 8, 9, 10, 11, 12, 13, 14, 15, 16, 17, 9, 10, 11, 12, 13, 14, 15, 16, 17, 18, 1, 2, 3, 4, 5, 6, 7, 8, 9, 10, 2, 3, 4, 5, 6, 7, 8, 9, 10, 11, 3, 4, 5, 6, 7, 8, 9, 10, 11, 12, 4, 5, 6, 7, 8, 9, 10, 11, 12, 13, 5, 6, 7, 8, 9, 10, 11, 12, 13, 14, 6, 7, 8, 9, 10, 11, 12, 13, 14, 15, 7, 8, 9, 10, 11, 12, 13, 14, 15, 16, 8, 9, 10, 11, 12, 13, 14, 15, 16, 17, 9, 10, 11, 12, 13, 14, 15, 16, 17, 18, 10, 11, 12, 13, 14, 15, 16, 17, 18, 19, 2, 3, 4, 5, 6, 7, 8, 9, 10, 11, 3, 4, 5, 6, 7, 8, 9, 10, 11, 12, 4, 5, 6, 7, 8, 9, 10, 11, 12, 13, 5, 6, 7, 8, 9, 10, 11, 12, 13, 14, 6, 7, 8, 9, 10, 11, 12, 13, 14, 15, 7, 8, 9, 10, 11, 12, 13, 14, 15, 16, 8, 9, 10, 11, 12, 13, 14, 15, 16, 17, 9, 10, 11, 12, 13, 14, 15, 16, 17, 18, 10, 11, 12, 13, 14, 15, 16, 17, 18, 19, 11, 12, 13, 14, 15, 16, 17, 18, 19, 20, 3, 4, 5, 6, 7, 8, 9, 10, 11, 12, 4, 5, 6, 7, 8, 9, 10, 11, 12, 13, 5, 6, 7, 8, 9, 10, 11, 12, 13, 14, 6, 7, 8, 9, 10, 11, 12, 13, 14, 15, 7, 8, 9, 10, 11, 12, 13, 14, 15, 16, 8, 9, 10, 11, 12, 13, 14, 15, 16, 17, 9, 10, 11, 12, 13, 14, 15, 16, 17, 18, 10, 11, 12, 13, 14, 15, 16, 17, 18, 19, 11, 12, 13, 14, 15, 16, 17, 18, 19, 20, 12, 13, 14, 15, 16, 17, 18, 19, 20, 21, 4, 5, 6, 7, 8, 9, 10, 11, 12, 13, 5, 6, 7, 8, 9, 10, 11, 12, 13, 14, 6, 7, 8, 9, 10, 11, 12, 13, 14, 15, 7, 8, 9, 10, 11, 12, 13, 14, 15, 16, 8, 9, 10, 11, 12, 13, 14, 15, 16, 17, 9, 10, 11, 12, 13, 14, 15, 16, 17, 18, 10, 11, 12, 13, 14, 15, 16, 17, 18, 19, 11, 12, 13, 14, 15, 16, 17, 18, 19, 20, 12, 13, 14, 15, 16, 17, 18, 19, 20, 21, 13, 14, 15, 16, 17, 18, 19, 20, 21, 22, 5, 6, 7, 8, 9, 10, 11, 12, 13, 14, 6, 7, 8, 9, 10, 11, 12, 13, 14, 15, 7, 8, 9, 10, 11, 12, 13, 14, 15, 16, 8, 9, 10, 11, 12, 13, 14, 15, 16, 17, 9, 10, 11, 12, 13, 14, 15, 16, 17, 18, 10, 11, 12, 13, 14, 15, 16, 17, 18, 19, 11, 12, 13, 14, 15, 16, 17, 18, 19, 20, 12, 13, 14, 15, 16, 17, 18, 19, 20, 21, 13, 14, 15, 16, 17, 18, 19, 20, 21, 22, 14, 15, 16, 17, 18, 19, 20, 21, 22, 23, 6, 7, 8, 9, 10, 11, 12, 13, 14, 15, 7, 8, 9, 10, 11, 12, 13, 14, 15, 16, 8, 9, 10, 11, 12, 13, 14, 15, 16, 17, 9, 10, 11, 12, 13, 14, 15, 16, 17, 18, 10, 11, 12, 13, 14, 15, 16, 17, 18, 19, 11, 12, 13, 14, 15, 16, 17, 18, 19, 20, 12, 13, 14, 15, 16, 17, 18, 19, 20, 21, 13, 14, 15, 16, 17, 18, 19, 20, 21, 22, 14, 15, 16, 17, 18, 19, 20, 21, 22, 23, 15, 16, 17, 18, 19, 20, 21, 22, 23, 24, 7, 8, 9, 10, 11, 12, 13, 14, 15, 16, 8, 9, 10, 11, 12, 13, 14, 15, 16, 17, 9, 10, 11, 12, 13, 14, 15, 16, 17, 18, 10, 11, 12, 13, 14, 15, 16, 17, 18, 19, 11, 12, 13, 14, 15, 16, 17, 18, 19, 20, 12, 13, 14, 15, 16, 17, 18, 19, 20, 21, 13, 14, 15, 16, 17, 18, 19, 20, 21, 22, 14, 15, 16, 17, 18, 19, 20, 21, 22, 23, 15, 16, 17, 18, 19, 20, 21, 22, 23, 24, 16, 17, 18, 19, 20, 21, 22, 23, 24, 25, 8, 9, 10, 11, 12, 13, 14, 15, 16, 17, 9, 10, 11, 12, 13, 14, 15, 16, 17, 18, 10, 11, 12, 13, 14, 15, 16, 17, 18, 19, 11, 12, 13, 14, 15, 16, 17, 18, 19, 20, 12, 13, 14, 15, 16, 17, 18, 19, 20, 21, 13, 14, 15, 16, 17, 18, 19, 20, 21, 22, 14, 15, 16, 17, 18, 19, 20, 21, 22, 23, 15, 16, 17, 18, 19, 20, 21, 22, 23, 24, 16, 17, 18, 19, 20, 21, 22, 23, 24, 25, 17, 18, 19, 20, 21, 22, 23, 24, 25, 26, 9, 10, 11, 12, 13, 14, 15, 16, 17, 18, 10, 11, 12, 13, 14, 15, 16, 17, 18, 19, 11, 12, 13, 14, 15, 16, 17, 18, 19, 20, 12, 13, 14, 15, 16, 17, 18, 19, 20, 21, 13, 14, 15, 16, 17, 18, 19, 20, 21, 22, 14, 15, 16, 17, 18, 19, 20, 21, 22, 23, 15, 16, 17, 18, 19, 20, 21, 22, 23, 24, 16, 17, 18, 19, 20, 21, 22, 23, 24, 25, 17, 18, 19, 20, 21, 22, 23, 24, 25, 26, 18, 19, 20, 21, 22, 23, 24, 25, 26, 27, 1]\n"
     ]
    }
   ],
   "source": [
    "'''39. Develop a program that calculates the sum of the digits of numbers from 1 to 1000 using list\n",
    "comprehension.'''\n",
    "\n",
    "ans = [sum(int(digit) for digit in str(num)) for num in range(1,1001)]\n",
    "\n",
    "print(ans)"
   ]
  },
  {
   "cell_type": "code",
   "execution_count": 21,
   "id": "5232254d",
   "metadata": {},
   "outputs": [
    {
     "name": "stdout",
     "output_type": "stream",
     "text": [
      "Enter the range: 1000\n"
     ]
    },
    {
     "data": {
      "text/plain": [
       "[11, 101, 131, 151, 181, 191, 313, 353, 373, 383, 727, 757, 787, 797, 919, 929]"
      ]
     },
     "execution_count": 21,
     "metadata": {},
     "output_type": "execute_result"
    }
   ],
   "source": [
    "'''40. Write a program that generates a list of prime palindromic numbers using list comprehension'''\n",
    "\n",
    "k = int(input(\"Enter the range: \"))\n",
    "\n",
    "if k < 10:\n",
    "    print(\"List cannot be generated\")\n",
    "    \n",
    "prime_numbers = [num for num in range(10, k + 1)\n",
    "                 if all(num % i != 0 for i in range(2, int(num**0.5) + 1)) and num > 1]\n",
    "\n",
    "palindromes = [int(i) for i in prime_numbers if str(i) == str(i)[::-1]]\n",
    "\n",
    "palindromes"
   ]
  },
  {
   "cell_type": "code",
   "execution_count": null,
   "id": "0be30126",
   "metadata": {},
   "outputs": [],
   "source": []
  },
  {
   "cell_type": "code",
   "execution_count": null,
   "id": "73a1931b",
   "metadata": {},
   "outputs": [],
   "source": []
  }
 ],
 "metadata": {
  "kernelspec": {
   "display_name": "Python 3 (ipykernel)",
   "language": "python",
   "name": "python3"
  },
  "language_info": {
   "codemirror_mode": {
    "name": "ipython",
    "version": 3
   },
   "file_extension": ".py",
   "mimetype": "text/x-python",
   "name": "python",
   "nbconvert_exporter": "python",
   "pygments_lexer": "ipython3",
   "version": "3.8.8"
  }
 },
 "nbformat": 4,
 "nbformat_minor": 5
}
