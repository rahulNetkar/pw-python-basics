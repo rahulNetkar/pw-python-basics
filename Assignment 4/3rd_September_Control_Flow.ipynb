{
 "cells": [
  {
   "cell_type": "markdown",
   "id": "a6f38d0d",
   "metadata": {},
   "source": [
    "## Basic if-else"
   ]
  },
  {
   "cell_type": "code",
   "execution_count": 1,
   "id": "425ff723",
   "metadata": {},
   "outputs": [
    {
     "name": "stdout",
     "output_type": "stream",
     "text": [
      "Enter a number: -1\n",
      "The number is negative.\n"
     ]
    }
   ],
   "source": [
    "'''1. Write a Python program to check if a given number is positive or negative.'''\n",
    "\n",
    "num = int(input(\"Enter a number: \"))\n",
    "\n",
    "if num < 0:\n",
    "    print(\"The number is negative.\")\n",
    "else:\n",
    "    print(\"The number is positive.\")"
   ]
  },
  {
   "cell_type": "code",
   "execution_count": 3,
   "id": "b81b29c7",
   "metadata": {},
   "outputs": [
    {
     "name": "stdout",
     "output_type": "stream",
     "text": [
      "Enter the age: 33\n",
      "You are eligible to vote.\n"
     ]
    }
   ],
   "source": [
    "'''2. Create a program that determines if a person is eligible to vote based on their age. '''\n",
    "\n",
    "age = int(input(\"Enter the age: \"))\n",
    "\n",
    "if age >= 18:\n",
    "    print(\"You are eligible to vote.\")\n",
    "else:\n",
    "    print(\"You are not eligible to vote.\")"
   ]
  },
  {
   "cell_type": "code",
   "execution_count": 4,
   "id": "2a64dc22",
   "metadata": {},
   "outputs": [
    {
     "name": "stdout",
     "output_type": "stream",
     "text": [
      "Enter first number: 1\n",
      "Enter second number: 5\n",
      "The maximum is 5\n"
     ]
    }
   ],
   "source": [
    "'''3. Develop a program to find the maximum of two numbers using if-else statements.'''\n",
    "\n",
    "num1 = int(input(\"Enter first number: \"))\n",
    "num2 = int(input(\"Enter second number: \"))\n",
    "\n",
    "if num1 > num2:\n",
    "    print(\"The maximum is\", num1)\n",
    "else:\n",
    "    print(\"The maximum is\", num2)"
   ]
  },
  {
   "cell_type": "code",
   "execution_count": 5,
   "id": "bc6559b6",
   "metadata": {},
   "outputs": [
    {
     "name": "stdout",
     "output_type": "stream",
     "text": [
      "Enter year: 2023\n",
      "2023 is not a leap year\n"
     ]
    }
   ],
   "source": [
    "'''4. Write a Python script to classify a given year as a leap year or not.'''\n",
    "\n",
    "year = int(input(\"Enter year: \"))\n",
    "\n",
    "if year % 4 == 0:\n",
    "    print(f'{year} is a leap year')\n",
    "else:\n",
    "    print(f'{year} is not a leap year')"
   ]
  },
  {
   "cell_type": "code",
   "execution_count": 7,
   "id": "62b94884",
   "metadata": {},
   "outputs": [
    {
     "name": "stdout",
     "output_type": "stream",
     "text": [
      "Enter character: R\n",
      "R is a consonant.\n"
     ]
    }
   ],
   "source": [
    "'''5. Create a program that checks whether a character is a vowel or a consonant.'''\n",
    "\n",
    "char = input(\"Enter character: \")\n",
    "\n",
    "if char.lower() in 'aeiou':\n",
    "    print(f\"{char} is a vowel.\")\n",
    "else:\n",
    "    print(f\"{char} is a consonant.\")"
   ]
  },
  {
   "cell_type": "code",
   "execution_count": 10,
   "id": "d8d245d0",
   "metadata": {},
   "outputs": [
    {
     "name": "stdout",
     "output_type": "stream",
     "text": [
      "23 is Odd\n"
     ]
    }
   ],
   "source": [
    "''' 6. Implement a program to determine whether a given number is even or odd. '''\n",
    "\n",
    "num = int(input(\"Enter a number: \"))\n",
    "\n",
    "if num%2==0:\n",
    "    print(f\"{num} is Even\")\n",
    "else:\n",
    "    print(f\"{num} is Odd\")\n"
   ]
  },
  {
   "cell_type": "code",
   "execution_count": 13,
   "id": "7b7c5ddc",
   "metadata": {},
   "outputs": [
    {
     "name": "stdout",
     "output_type": "stream",
     "text": [
      "Absosulte value of -10 is \"10\"\n"
     ]
    }
   ],
   "source": [
    "'''7. Write a Python function to calculate the absolute value of a number without using the `abs()` function'''\n",
    "\n",
    "num = int(input(\"Enter a number: \"))\n",
    "\n",
    "if num < 0:\n",
    "    print(f'Absosulte value of {num} is \"{-num}\"')\n",
    "else:\n",
    "    print(f'Absosulte value of {num} is \"{num}\"')\n",
    "    \n"
   ]
  },
  {
   "cell_type": "code",
   "execution_count": 8,
   "id": "2f813c21",
   "metadata": {},
   "outputs": [
    {
     "name": "stdout",
     "output_type": "stream",
     "text": [
      "Enter first number: 2\n",
      "Enter second number: 3\n",
      "Enter third number: 4\n",
      "The largest number is 4\n"
     ]
    }
   ],
   "source": [
    "'''8. Develop a program that determines the largest of three given numbers using if-else statements.'''\n",
    "\n",
    "a = int(input(\"Enter first number: \"))\n",
    "b = int(input(\"Enter second number: \"))\n",
    "c = int(input(\"Enter third number: \"))\n",
    "\n",
    "if (a > b) and (a > c):\n",
    "    print (\"The largest number is\", a)\n",
    "if (b > a) and (b > c):\n",
    "    print (\"The largest number is\", b)\n",
    "else:\n",
    "    print (\"The largest number is\", c)"
   ]
  },
  {
   "cell_type": "code",
   "execution_count": null,
   "id": "2042b05f",
   "metadata": {},
   "outputs": [],
   "source": [
    "''' 9. Create a program that checks if a given string is a palindrome.'''\n",
    "\n",
    "string = input(\"Enter a string: \")\n",
    "\n",
    "if string == string[::-1]:\n",
    "    print(f\"{string} is a palindrome.\")\n",
    "else:\n",
    "    print(f\"{string} is not a palindrome.\")"
   ]
  },
  {
   "cell_type": "code",
   "execution_count": 17,
   "id": "ded7d4e2",
   "metadata": {},
   "outputs": [
    {
     "name": "stdout",
     "output_type": "stream",
     "text": [
      "Enter students score (out of 500): 311\n",
      "Grade C\n"
     ]
    }
   ],
   "source": [
    "'''10. Write a Python program to calculate the grade based on a student's score '''\n",
    "\n",
    "score = int(input(\"Enter students score (out of 500): \"))\n",
    "\n",
    "percent = (score / 500) * 100\n",
    "\n",
    "if percent > 90:\n",
    "    print(\"Grade A\")\n",
    "else:\n",
    "    if percent > 75:\n",
    "        print(\"Grade B\")\n",
    "    else:\n",
    "        if percent > 60:\n",
    "            print(\"Grade C\")\n",
    "        else:\n",
    "            if percent > 45:\n",
    "                print(\"Grade D\")\n",
    "            else:\n",
    "                if percent > 30:\n",
    "                    print(\"Grade E\")\n",
    "                else:\n",
    "                    print(\"Fail\")\n"
   ]
  },
  {
   "cell_type": "markdown",
   "id": "8a323b50",
   "metadata": {},
   "source": [
    "## Nested If-Else"
   ]
  },
  {
   "cell_type": "code",
   "execution_count": 19,
   "id": "bc443f73",
   "metadata": {},
   "outputs": [
    {
     "name": "stdout",
     "output_type": "stream",
     "text": [
      "Enter first number: 20\n",
      "Enter second number: 11\n",
      "Enter third number: 40\n",
      "40 is largest\n"
     ]
    }
   ],
   "source": [
    "'''11. Write a program to find the largest among three numbers using nested if-else statements.'''\n",
    "\n",
    "a = int(input(\"Enter first number: \"))\n",
    "b = int(input(\"Enter second number: \"))\n",
    "c = int(input(\"Enter third number: \"))\n",
    "\n",
    "if (a > b) and (a > c):\n",
    "    print(f'{a} is largest')\n",
    "else:\n",
    "    if (b > a) and (b > c):\n",
    "        print(f'{b} is largest')\n",
    "    else:\n",
    "        print(f'{c} is largest')\n",
    "        "
   ]
  },
  {
   "cell_type": "code",
   "execution_count": 24,
   "id": "247cc748",
   "metadata": {},
   "outputs": [
    {
     "name": "stdout",
     "output_type": "stream",
     "text": [
      "Enter first side: 5\n",
      "Enter second side: 4\n",
      "Enter third side: 3\n",
      "Triangle is scalene\n"
     ]
    }
   ],
   "source": [
    "''' 12. Implement a program to determine if a triangle is equilateral, isosceles, or scalene '''\n",
    "\n",
    "a = int(input(\"Enter first side: \"))\n",
    "b = int(input(\"Enter second side: \"))\n",
    "c = int(input(\"Enter third side: \"))\n",
    "\n",
    "if a == b == c:\n",
    "    print (\"Triangle is equilateral\")\n",
    "else:\n",
    "    if a == b or b == c or a == c:\n",
    "        print(\"Triangle is isosceles\")\n",
    "    else:\n",
    "        print(\"Triangle is scalene\")\n",
    "\n"
   ]
  },
  {
   "cell_type": "code",
   "execution_count": 30,
   "id": "c721e5de",
   "metadata": {},
   "outputs": [
    {
     "name": "stdout",
     "output_type": "stream",
     "text": [
      "Enter year: 2100\n",
      "2100 is a leap year and also a century year\n"
     ]
    }
   ],
   "source": [
    "''' 13. Develop a program that checks if a year is a leap year and also if it is a century year '''\n",
    "\n",
    "year = int(input(\"Enter year: \"))\n",
    "\n",
    "if year % 4 == 0:\n",
    "    if year % 100 == 0:\n",
    "        print(f'{year} is a leap year and also a century year')\n",
    "    else:\n",
    "        print(f\"{year} is a leap year\")\n",
    "else:\n",
    "    print(f\"{year} is not a leap year\")"
   ]
  },
  {
   "cell_type": "code",
   "execution_count": 3,
   "id": "0add943f",
   "metadata": {},
   "outputs": [
    {
     "name": "stdout",
     "output_type": "stream",
     "text": [
      "Enter a number: -4\n",
      "Negative\n"
     ]
    }
   ],
   "source": [
    "''' 14. Write a Python script to determine if a number is positive, negative, or zero. '''\n",
    "\n",
    "num = int(input(\"Enter a number: \"))\n",
    "\n",
    "if num > 0:\n",
    "    print(\"Positive\")\n",
    "else:\n",
    "    if num < 0:\n",
    "        print(\"Negative\")\n",
    "    else:\n",
    "        print(\"Zero\")\n"
   ]
  },
  {
   "cell_type": "code",
   "execution_count": 5,
   "id": "94f811be",
   "metadata": {},
   "outputs": [
    {
     "name": "stdout",
     "output_type": "stream",
     "text": [
      "Enter age: 14\n",
      "Teenager\n"
     ]
    }
   ],
   "source": [
    "'''15. Create a program to check if a person is a teenager (between 13 and 19 years old).\n",
    "'''\n",
    "\n",
    "age = int(input(\"Enter age: \"))\n",
    "\n",
    "if 13 <= age <= 19:\n",
    "    print(\"Teenager\")\n",
    "else:\n",
    "    print(\"Not a teenager\")"
   ]
  },
  {
   "cell_type": "code",
   "execution_count": 7,
   "id": "db03131c",
   "metadata": {},
   "outputs": [
    {
     "name": "stdout",
     "output_type": "stream",
     "text": [
      "Enter angle: 30\n",
      "Acute\n"
     ]
    }
   ],
   "source": [
    "'''16. Develop a program that determines the type of angle based on its measure (acute, obtuse, or right).\n",
    "'''\n",
    "\n",
    "angle = int(input(\"Enter angle: \"))\n",
    "\n",
    "if angle < 90:\n",
    "    print(\"Acute\")\n",
    "else:\n",
    "    if angle > 90:\n",
    "        print('Obtuse')\n",
    "    else:\n",
    "        print(\"Right\")"
   ]
  },
  {
   "cell_type": "code",
   "execution_count": null,
   "id": "a7503312",
   "metadata": {},
   "outputs": [],
   "source": [
    "'''17. Write a Python program to calculate the roots of a quadratic equation.\n",
    "'''"
   ]
  },
  {
   "cell_type": "code",
   "execution_count": 5,
   "id": "93235022",
   "metadata": {},
   "outputs": [
    {
     "name": "stdout",
     "output_type": "stream",
     "text": [
      "Enter the day number: 5\n",
      "Friday\n"
     ]
    }
   ],
   "source": [
    "'''18. Implement a program to determine the day of the week based on a user-provided number (1 for Monday, 2\n",
    "for Tuesday, etc.).\n",
    "'''\n",
    "\n",
    "day = int(input(\"Enter the day number: \"))\n",
    "\n",
    "if day == 1:\n",
    "    print(\"Monday\")\n",
    "else:\n",
    "    if day == 2:\n",
    "        print(\"Tuesday\")\n",
    "    else:\n",
    "        if day == 3:\n",
    "            print(\"Wednesday\")\n",
    "        else:\n",
    "            if day == 4:\n",
    "                print(\"Thursday\")\n",
    "            else:\n",
    "                if day == 5:\n",
    "                    print(\"Friday\")\n",
    "                else:\n",
    "                    if day == 6:\n",
    "                        print(\"Saturday\")\n",
    "                    else:\n",
    "                        print(\"Sunday\")"
   ]
  },
  {
   "cell_type": "code",
   "execution_count": 9,
   "id": "daea0034",
   "metadata": {},
   "outputs": [
    {
     "name": "stdout",
     "output_type": "stream",
     "text": [
      "Enter year: 2000\n",
      "Year is leap year\n"
     ]
    }
   ],
   "source": [
    "'''19. Create a program that determines if a year is a leap year and also if it is evenly divisible by 400.\n",
    "'''\n",
    "\n",
    "year = int(input(\"Enter year: \"))\n",
    "\n",
    "if year % 4 == 0 and year % 400 == 0:\n",
    "    print(\"Year is leap year\")\n",
    "else:\n",
    "    print(\"Year is not a leap year\")"
   ]
  },
  {
   "cell_type": "code",
   "execution_count": 14,
   "id": "9bedc1ee",
   "metadata": {},
   "outputs": [
    {
     "name": "stdout",
     "output_type": "stream",
     "text": [
      "Enter a number: 3\n",
      "Prime\n"
     ]
    }
   ],
   "source": [
    "'''20. Develop a program that checks if a given number is prime or not using nested if-else statements.\n",
    "'''\n",
    "\n",
    "num = int(input(\"Enter a number: \"))\n",
    "\n",
    "if num < 2:\n",
    "    print(\"Not prime\")\n",
    "else:\n",
    "    for i in range(2, int(num**0.5) + 1):\n",
    "        if num%i == 0:\n",
    "            print(\"Not prime\")\n",
    "            break\n",
    "    else:\n",
    "        print(\"Prime\")"
   ]
  },
  {
   "cell_type": "markdown",
   "id": "56964529",
   "metadata": {},
   "source": [
    "## Elif"
   ]
  },
  {
   "cell_type": "code",
   "execution_count": 15,
   "id": "406860b9",
   "metadata": {},
   "outputs": [
    {
     "name": "stdout",
     "output_type": "stream",
     "text": [
      "Enter score (out of 500) : 343\n",
      "Grade D\n"
     ]
    }
   ],
   "source": [
    "'''21. Write a Python program to assign grades based on different ranges of scores using elif statements.\n",
    "'''\n",
    "\n",
    "score = int(input(\"Enter score (out of 500) : \"))\n",
    "\n",
    "percent = score/500 * 100\n",
    "\n",
    "if percent >= 90:\n",
    "    print(\"Grade A\")\n",
    "elif percent >= 80:\n",
    "    print(\"Grade B\")\n",
    "elif percent >= 70:\n",
    "    print(\"Grade C\")\n",
    "elif percent >= 60:\n",
    "    print(\"Grade D\")\n",
    "elif percent >= 50:\n",
    "    print(\"Grade E\")\n",
    "else:\n",
    "    print(\"Fail\")"
   ]
  },
  {
   "cell_type": "code",
   "execution_count": 16,
   "id": "9faa6d71",
   "metadata": {},
   "outputs": [
    {
     "name": "stdout",
     "output_type": "stream",
     "text": [
      "Enter angle1: 90\n",
      "Enter angle2: 45\n",
      "Enter angle3: 45\n",
      "Isosceles Triangle\n"
     ]
    }
   ],
   "source": [
    "'''22. Implement a program to determine the type of a triangle based on its angles.\n",
    "'''\n",
    "\n",
    "angle1 = int(input(\"Enter angle1: \"))\n",
    "angle2 = int(input(\"Enter angle2: \"))\n",
    "angle3 = int(input(\"Enter angle3: \"))\n",
    "\n",
    "\n",
    "if angle1 + angle2 + angle3 == 180:\n",
    "    if angle1 == angle2 == angle3:\n",
    "        print(\"Equilateral Triangle\")\n",
    "    elif angle1 == angle2 or angle2 == angle3 or angle1 == angle3:\n",
    "        print(\"Isosceles Triangle\")\n",
    "    else:\n",
    "        print(\"Scalene Triangle\")\n",
    "else:\n",
    "    print(\"Not a valid triangle\")"
   ]
  },
  {
   "cell_type": "code",
   "execution_count": 17,
   "id": "cc003767",
   "metadata": {},
   "outputs": [
    {
     "name": "stdout",
     "output_type": "stream",
     "text": [
      "Enter BMI: 30\n",
      "Obese\n"
     ]
    }
   ],
   "source": [
    "'''23. Develop a program to categorize a given person's BMI into underweight, normal, overweight, or obese using\n",
    "elif statements.\n",
    "'''\n",
    "\n",
    "bmi = int(input(\"Enter BMI: \"))\n",
    "\n",
    "if bmi < 18.5:\n",
    "    print(\"Underweight\")\n",
    "elif 18.5 <= bmi < 25:\n",
    "    print(\"Normal Weight\")\n",
    "elif 25 <= bmi < 30:\n",
    "    print(\"Overweight\")\n",
    "else:\n",
    "    print(\"Obese\")"
   ]
  },
  {
   "cell_type": "code",
   "execution_count": 18,
   "id": "8f62e4a5",
   "metadata": {},
   "outputs": [
    {
     "name": "stdout",
     "output_type": "stream",
     "text": [
      "Enter number: -3\n",
      "The number is negative.\n"
     ]
    }
   ],
   "source": [
    "'''24. Create a program that determines whether a given number is positive, negative, or zero using elif\n",
    "statements.\n",
    "'''\n",
    "\n",
    "number = int(input(\"Enter number: \"))\n",
    "\n",
    "if number > 0:\n",
    "    print(\"The number is positive.\")\n",
    "elif number < 0:\n",
    "    print(\"The number is negative.\")\n",
    "else:\n",
    "    print(\"The number is zero.\")"
   ]
  },
  {
   "cell_type": "code",
   "execution_count": 19,
   "id": "d2498773",
   "metadata": {},
   "outputs": [
    {
     "name": "stdout",
     "output_type": "stream",
     "text": [
      "Enter any character: @\n",
      "The character is special.\n"
     ]
    }
   ],
   "source": [
    "'''25. Write a Python script to determine the type of a character (uppercase, lowercase, or special) using elif\n",
    "statements.\n",
    "'''\n",
    "\n",
    "char = input(\"Enter any character: \")\n",
    "\n",
    "if char.isupper():\n",
    "    print(\"The character is uppercase.\")\n",
    "elif char.islower():\n",
    "    print(\"The character is lowercase.\")\n",
    "else:\n",
    "    print(\"The character is special.\")"
   ]
  },
  {
   "cell_type": "code",
   "execution_count": 20,
   "id": "483b3e88",
   "metadata": {},
   "outputs": [
    {
     "name": "stdout",
     "output_type": "stream",
     "text": [
      "Enter your purchase amount: 300\n",
      "Original Price: $300.00\n",
      "Discount Rate: 2.0%\n",
      "Discounted Price: $294.00\n"
     ]
    }
   ],
   "source": [
    "'''26. Implement a program to calculate the discounted price based on different purchase amounts using elif\n",
    "statements.\n",
    "'''\n",
    "\n",
    "purchase_amount = int(input(\"Enter your purchase amount: \"))\n",
    "\n",
    "if purchase_amount >= 1000:\n",
    "    discount_rate = 0.1\n",
    "elif purchase_amount >= 500:\n",
    "    discount_rate = 0.05\n",
    "elif purchase_amount >= 200:\n",
    "    discount_rate = 0.02\n",
    "else:\n",
    "    discount_rate = 0\n",
    "\n",
    "discounted_price = purchase_amount - (purchase_amount * discount_rate)\n",
    "\n",
    "print(f\"Original Price: ${purchase_amount:.2f}\")\n",
    "print(f\"Discount Rate: {discount_rate * 100}%\")\n",
    "print(f\"Discounted Price: ${discounted_price:.2f}\")"
   ]
  },
  {
   "cell_type": "code",
   "execution_count": 21,
   "id": "0eaf04db",
   "metadata": {},
   "outputs": [
    {
     "name": "stdout",
     "output_type": "stream",
     "text": [
      "Enter units consumed: 200\n",
      "Units Consumed: 200 kWh\n",
      "Rate: $7.50 per kWh\n",
      "Electricity Bill: $1500.00\n"
     ]
    }
   ],
   "source": [
    "'''\n",
    "27. Develop a program to calculate the electricity bill based on different consumption slabs using elif\n",
    "statements.\n",
    "'''\n",
    "\n",
    "units_consumed = int(input(\"Enter units consumed: \"))\n",
    "\n",
    "if units_consumed <= 50:\n",
    "    rate = 2.50\n",
    "elif units_consumed <= 150:\n",
    "    rate = 5.00\n",
    "elif units_consumed <= 300:\n",
    "    rate = 7.50\n",
    "else:\n",
    "    rate = 10.00 \n",
    "\n",
    "bill_amount = units_consumed * rate\n",
    "\n",
    "print(f\"Units Consumed: {units_consumed} kWh\")\n",
    "print(f\"Rate: ${rate:.2f} per kWh\")\n",
    "print(f\"Electricity Bill: ${bill_amount:.2f}\")\n"
   ]
  },
  {
   "cell_type": "code",
   "execution_count": 26,
   "id": "fa02a7dc",
   "metadata": {},
   "outputs": [
    {
     "name": "stdout",
     "output_type": "stream",
     "text": [
      "It's a Square.\n"
     ]
    }
   ],
   "source": [
    "'''28. Create a program to determine the type of quadrilateral based on its angles and sides using elif\n",
    "statements.\n",
    "'''\n",
    "\n",
    "angles = [90, 90, 90, 90]\n",
    "sides = [5, 5, 5, 5] \n",
    "\n",
    "if sum(angles) != 360:\n",
    "        print(\"Not a valid quadrilateral.\")\n",
    "else:\n",
    "    # Check the type of quadrilateral based on angles and sides\n",
    "    if all(angle == 90 for angle in angles) and sides[0] == sides[1] == sides[2] == sides[3] :\n",
    "        print(\"It's a Square.\")\n",
    "    elif all(angle == 90 for angle in angles): \n",
    "        print(\"It's a Rectangle.\")\n",
    "    elif angles.count(90) == 2 and sides[0] == sides[2] and sides[1] == sides[3]:\n",
    "        print(\"It's a Rhombus.\")\n",
    "    elif sides[0] == sides[1] == sides[2] == sides[3]:\n",
    "        print(\"It's a Parallelogram.\")\n",
    "    else:\n",
    "        print(\"It's a general Quadrilateral.\")"
   ]
  },
  {
   "cell_type": "code",
   "execution_count": 27,
   "id": "b6bf068e",
   "metadata": {},
   "outputs": [
    {
     "name": "stdout",
     "output_type": "stream",
     "text": [
      "Enter month: january\n",
      "The season for January is Winter.\n"
     ]
    }
   ],
   "source": [
    "'''29. Write a Python script to determine the season based on a user-provided month using elif statements.\n",
    "'''\n",
    "\n",
    "\n",
    "month = input(\"Enter month: \").lower()\n",
    "\n",
    "if month in ['december', 'january', 'february']:\n",
    "    season = \"Winter\"\n",
    "elif month in ['march', 'april', 'may']:\n",
    "    season = \"Spring\"\n",
    "elif month in ['june', 'july', 'august']:\n",
    "    season = \"Summer\"\n",
    "elif month in ['september', 'october', 'november']:\n",
    "    season = \"Fall\"\n",
    "else:\n",
    "    season = \"Invalid month\"\n",
    "\n",
    "print(f\"The season for {month.capitalize()} is {season}.\")\n"
   ]
  },
  {
   "cell_type": "code",
   "execution_count": null,
   "id": "50f439d8",
   "metadata": {},
   "outputs": [],
   "source": [
    "'''30. Implement a program to determine the type of a year (leap or common) and month (30 or 31 days) using\n",
    "elif statements.\n",
    "'''"
   ]
  },
  {
   "cell_type": "markdown",
   "id": "0082f440",
   "metadata": {},
   "source": [
    "## Basic level"
   ]
  },
  {
   "cell_type": "code",
   "execution_count": 28,
   "id": "3950bea4",
   "metadata": {},
   "outputs": [
    {
     "name": "stdout",
     "output_type": "stream",
     "text": [
      "Enter number: 4\n",
      "Positive\n"
     ]
    }
   ],
   "source": [
    "'''1. Write a Python program that checks if a given number is positive, negative, or zero.'''\n",
    "\n",
    "num = int(input(\"Enter number: \"))\n",
    "\n",
    "if num == 0:\n",
    "    print(\"Zero\")\n",
    "elif num < 0:\n",
    "    print(\"Negative\")\n",
    "else:\n",
    "    print(\"Positive\")"
   ]
  },
  {
   "cell_type": "code",
   "execution_count": 29,
   "id": "76c80ca8",
   "metadata": {},
   "outputs": [
    {
     "name": "stdout",
     "output_type": "stream",
     "text": [
      "Enter age: 9\n",
      "Not eligible to vote\n"
     ]
    }
   ],
   "source": [
    "'''2. Create a program to determine if a person is eligible to vote based on their age.'''\n",
    "\n",
    "age = int(input(\"Enter age: \"))\n",
    "\n",
    "if age >= 18:\n",
    "    print(\"Eligible to vote\")\n",
    "else: \n",
    "    print(\"Not eligible to vote\")"
   ]
  },
  {
   "cell_type": "code",
   "execution_count": 31,
   "id": "65748d77",
   "metadata": {},
   "outputs": [
    {
     "name": "stdout",
     "output_type": "stream",
     "text": [
      "Enter number 1:10\n",
      "Enter number 2:300\n",
      "max is 300\n"
     ]
    }
   ],
   "source": [
    "'''3. Write a program to find the maximum of two given numbers using conditional statements.\n",
    "'''\n",
    "\n",
    "a = int(input(\"Enter number 1:\"))\n",
    "b = int(input(\"Enter number 2:\"))\n",
    "\n",
    "if a > b:\n",
    "    print(f'max is {a}')\n",
    "else:\n",
    "    print(f'max is {b}')"
   ]
  },
  {
   "cell_type": "code",
   "execution_count": 33,
   "id": "9ccc7af4",
   "metadata": {},
   "outputs": [
    {
     "name": "stdout",
     "output_type": "stream",
     "text": [
      "Enter score (out of 500) : 303\n",
      "Grade D\n"
     ]
    }
   ],
   "source": [
    "'''4. Develop a program that calculates the grade of a student based on their exam score.'''\n",
    "\n",
    "score = int(input(\"Enter score (out of 500) : \"))\n",
    "\n",
    "percent = score/500 * 100\n",
    "\n",
    "if percent >= 90:\n",
    "    print(\"Grade A\")\n",
    "elif percent >= 80:\n",
    "    print(\"Grade B\")\n",
    "elif percent >= 70:\n",
    "    print(\"Grade C\")\n",
    "elif percent >= 60:\n",
    "    print(\"Grade D\")\n",
    "elif percent >= 50:\n",
    "    print(\"Grade E\")\n",
    "else:\n",
    "    print(\"Fail\")"
   ]
  },
  {
   "cell_type": "code",
   "execution_count": 34,
   "id": "1ca79bd0",
   "metadata": {},
   "outputs": [
    {
     "name": "stdout",
     "output_type": "stream",
     "text": [
      "Enter year: 2024\n",
      "2024 is a leap year\n"
     ]
    }
   ],
   "source": [
    "'''5. Create a program that checks if a year is a leap year or not.'''\n",
    "\n",
    "year = int(input(\"Enter year: \"))\n",
    "\n",
    "if year%4 == 0:\n",
    "    print(f'{year} is a leap year')\n",
    "else:\n",
    "    print(f'{year} is not a leap year')    "
   ]
  },
  {
   "cell_type": "code",
   "execution_count": 35,
   "id": "1afa5210",
   "metadata": {},
   "outputs": [
    {
     "name": "stdout",
     "output_type": "stream",
     "text": [
      "Enter side 1:5\n",
      "Enter side 2:3\n",
      "Enter side 3:3\n",
      "Isosceles\n"
     ]
    }
   ],
   "source": [
    "'''6. Write a program to classify a triangle based on its sides' lengths.'''\n",
    "\n",
    "a = int(input(\"Enter side 1:\"))\n",
    "b = int(input(\"Enter side 2:\"))\n",
    "c = int(input(\"Enter side 3:\"))\n",
    "\n",
    "if a == b == c:\n",
    "    print(\"Equilateral\")\n",
    "elif a == b or b == c:\n",
    "    print(\"Isosceles\")\n",
    "else:\n",
    "    print(\"Scalene\")\n",
    "    "
   ]
  },
  {
   "cell_type": "code",
   "execution_count": 36,
   "id": "5e533346",
   "metadata": {},
   "outputs": [
    {
     "name": "stdout",
     "output_type": "stream",
     "text": [
      "Enter number:20\n",
      "Enter number:10\n",
      "Enter number:2\n",
      "20 is largest\n"
     ]
    }
   ],
   "source": [
    "'''7. Build a program that determines the largest of three given numbers.\n",
    "'''\n",
    "\n",
    "a = int(input(\"Enter number:\"))\n",
    "b = int(input(\"Enter number:\"))\n",
    "c = int(input(\"Enter number:\"))\n",
    "\n",
    "if a > b and a > c:\n",
    "    print(f'{a} is largest')\n",
    "elif b > a and b > c:\n",
    "    print(f'{b} is largest')\n",
    "else:\n",
    "    print(f'{c} is largest')\n",
    "    "
   ]
  },
  {
   "cell_type": "code",
   "execution_count": 38,
   "id": "e4f7c87d",
   "metadata": {},
   "outputs": [
    {
     "name": "stdout",
     "output_type": "stream",
     "text": [
      "Enter a charachter: b\n",
      "consonent\n"
     ]
    }
   ],
   "source": [
    "'''8. Develop a program that checks whether a character is a vowel or a consonant.'''\n",
    "\n",
    "char = input(\"Enter a charachter: \").lower()\n",
    "\n",
    "if char in 'aeiou':\n",
    "    print(\"vowel\")\n",
    "else:\n",
    "    print('consonent')"
   ]
  },
  {
   "cell_type": "code",
   "execution_count": 39,
   "id": "7d39845f",
   "metadata": {},
   "outputs": [
    {
     "name": "stdout",
     "output_type": "stream",
     "text": [
      "Enter your purchase amount: 1200\n",
      "Original Price: $1200.00\n",
      "Discount Rate: 10.0%\n",
      "Discounted Price: $1080.00\n"
     ]
    }
   ],
   "source": [
    "'''9. Create a program to calculate the total cost of a shopping cart based on discounts.'''\n",
    "\n",
    "purchase_amount = int(input(\"Enter your purchase amount: \"))\n",
    "\n",
    "if purchase_amount >= 1000:\n",
    "    discount_rate = 0.1\n",
    "elif purchase_amount >= 500:\n",
    "    discount_rate = 0.05\n",
    "elif purchase_amount >= 200:\n",
    "    discount_rate = 0.02\n",
    "else:\n",
    "    discount_rate = 0\n",
    "\n",
    "discounted_price = purchase_amount - (purchase_amount * discount_rate)\n",
    "\n",
    "print(f\"Original Price: ${purchase_amount:.2f}\")\n",
    "print(f\"Discount Rate: {discount_rate * 100}%\")\n",
    "print(f\"Discounted Price: ${discounted_price:.2f}\")"
   ]
  },
  {
   "cell_type": "code",
   "execution_count": 40,
   "id": "d3d13a52",
   "metadata": {},
   "outputs": [
    {
     "name": "stdout",
     "output_type": "stream",
     "text": [
      "Enter a number: 23\n",
      "Odd\n"
     ]
    }
   ],
   "source": [
    "'''10. Write a program that checks if a given number is even or odd.'''\n",
    "\n",
    "num = int(input(\"Enter a number: \"))\n",
    "\n",
    "if num%2 == 0:\n",
    "    print(\"Even\")\n",
    "else:\n",
    "    print(\"Odd\")"
   ]
  },
  {
   "cell_type": "markdown",
   "id": "e709ec28",
   "metadata": {},
   "source": [
    "## Intermediate Level:\n"
   ]
  },
  {
   "cell_type": "code",
   "execution_count": 44,
   "id": "4255c8f3",
   "metadata": {},
   "outputs": [
    {
     "name": "stdout",
     "output_type": "stream",
     "text": [
      "Enter the coefficient 'a': 3\n",
      "Enter the coefficient 'b': 4\n",
      "Enter the coefficient 'c': 5\n",
      "(-0.6666666666666666+1.1055415967851332j)\n",
      "(-0.6666666666666666-1.1055415967851332j)\n"
     ]
    }
   ],
   "source": [
    "'''11. Write a program that calculates the roots of a quadratic equation .'''\n",
    "\n",
    "a = float(input(\"Enter the coefficient 'a': \"))\n",
    "b = float(input(\"Enter the coefficient 'b': \"))\n",
    "c = float(input(\"Enter the coefficient 'c': \"))\n",
    "\n",
    "discriminant = (b**2) - (4*a*c)\n",
    "\n",
    "root1 = (-b + pow(discriminant, 0.5)) / (2*a)\n",
    "root2 = (-b - pow(discriminant, 0.5)) / (2*a)\n",
    "\n",
    "print(root1)\n",
    "print(root2)"
   ]
  },
  {
   "cell_type": "code",
   "execution_count": 45,
   "id": "6197b11e",
   "metadata": {},
   "outputs": [
    {
     "name": "stdout",
     "output_type": "stream",
     "text": [
      "Enter the day number: 7\n",
      "Sunday\n"
     ]
    }
   ],
   "source": [
    "'''12. Create a program that determines the day of the week based on the day number (1-7).'''\n",
    "\n",
    "\n",
    "day = int(input(\"Enter the day number: \"))\n",
    "\n",
    "if day == 1:\n",
    "    print(\"Monday\")\n",
    "\n",
    "elif day == 2:\n",
    "    print(\"Tuesday\")\n",
    "elif day == 3:\n",
    "    print(\"Wednesday\")\n",
    "elif day == 4:\n",
    "    print(\"Thursday\")\n",
    "elif day == 5:\n",
    "    print(\"Friday\")\n",
    "elif day == 6:\n",
    "    print(\"Saturday\")\n",
    "else:\n",
    "    print(\"Sunday\")"
   ]
  },
  {
   "cell_type": "code",
   "execution_count": 50,
   "id": "a6bab437",
   "metadata": {},
   "outputs": [
    {
     "data": {
      "text/plain": [
       "120"
      ]
     },
     "execution_count": 50,
     "metadata": {},
     "output_type": "execute_result"
    }
   ],
   "source": [
    "'''13. Develop a program that calculates the factorial of a given number using recursion.'''\n",
    "\n",
    "def fact(num):\n",
    "    if num == 0:\n",
    "        return 1\n",
    "    else:\n",
    "        return fact(num - 1) * num\n",
    "    \n",
    "fact(5)"
   ]
  },
  {
   "cell_type": "code",
   "execution_count": 51,
   "id": "19e12b05",
   "metadata": {},
   "outputs": [
    {
     "name": "stdout",
     "output_type": "stream",
     "text": [
      "Enter first number: 3\n",
      "Enter second number: 4\n",
      "Enter third number: 5\n",
      "5 is largest\n"
     ]
    }
   ],
   "source": [
    "'''14. Write a program to find the largest among three numbers without using the `max()` function.'''\n",
    "\n",
    "a = int(input(\"Enter first number: \"))\n",
    "b = int(input(\"Enter second number: \"))\n",
    "c = int(input(\"Enter third number: \"))\n",
    "\n",
    "if (a > b) and (a > c):\n",
    "    print(f'{a} is largest')\n",
    "elif (b > a) and (b > c):\n",
    "    print(f'{b} is largest')\n",
    "else:\n",
    "    print(f'{c} is largest')"
   ]
  },
  {
   "cell_type": "code",
   "execution_count": 54,
   "id": "54c4e9d2",
   "metadata": {},
   "outputs": [
    {
     "name": "stdout",
     "output_type": "stream",
     "text": [
      "**** ATM Transaction Menu ****\n",
      "1. Check Balance\n",
      "2. Deposit Money\n",
      "3. Withdraw Money\n",
      "4. Quit\n",
      "\n",
      "Choose your option: 3\n",
      "Enter password: eadadaa\n",
      "Enter your amount: 1000000\n",
      "Thank you for withdrawing 1000000 rupees\n"
     ]
    }
   ],
   "source": [
    "'''15. Create a program that simulates a basic ATM transaction menu.\n",
    "'''\n",
    "\n",
    "print(\"**** ATM Transaction Menu ****\")\n",
    "print(\"1. Check Balance\")\n",
    "print(\"2. Deposit Money\")\n",
    "print(\"3. Withdraw Money\")\n",
    "print(\"4. Quit\")\n",
    "print()\n",
    "choice = int(input(\"Choose your option: \"))\n",
    "\n",
    "if choice == 1:\n",
    "    print(\"Checking account balance, please wait ...\")\n",
    "elif choice == 2:\n",
    "    print(\"Deposit cash into the drawer and confirm ... \")\n",
    "elif choice == 3:\n",
    "    passw = input(\"Enter password: \")\n",
    "    \n",
    "    cash = int(input(\"Enter your amount: \"))\n",
    "    \n",
    "    print(f'Thank you for withdrawing {cash} rupees')\n",
    "else:\n",
    "    print(\"Exiting ...\")"
   ]
  },
  {
   "cell_type": "code",
   "execution_count": 56,
   "id": "eab8d9d4",
   "metadata": {},
   "outputs": [
    {
     "name": "stdout",
     "output_type": "stream",
     "text": [
      "Enter a string: vahav\n",
      "vahav is a palindrome.\n"
     ]
    }
   ],
   "source": [
    "'''16. Build a program that checks if agiven string is a palindrome or not.\n",
    "'''\n",
    "\n",
    "string = input(\"Enter a string: \").lower()\n",
    "\n",
    "if string == string[::-1]:\n",
    "    print(f'{string} is a palindrome.')\n",
    "else:\n",
    "    print(f'{string} is not a palindrome.')    "
   ]
  },
  {
   "cell_type": "code",
   "execution_count": 59,
   "id": "0feb6e7e",
   "metadata": {},
   "outputs": [
    {
     "data": {
      "text/plain": [
       "14.125"
      ]
     },
     "execution_count": 59,
     "metadata": {},
     "output_type": "execute_result"
    }
   ],
   "source": [
    "'''17. Write a program that calculates the average of a list of numbers, excluding the smallest and largest values.'''\n",
    "\n",
    "arr = [20, 12, 34, 11, 10, 15, 25, 4, 3, 16]\n",
    "\n",
    "arr.sort()\n",
    "\n",
    "ex_arr = arr[1:-1]\n",
    "\n",
    "avg = sum(ex_arr)/len(ex_arr)\n",
    "\n",
    "avg"
   ]
  },
  {
   "cell_type": "code",
   "execution_count": 60,
   "id": "5a23103c",
   "metadata": {},
   "outputs": [
    {
     "name": "stdout",
     "output_type": "stream",
     "text": [
      "Enter temperature in Celsius: 35\n",
      "Temperature in Fahrenheit is 95.0\n"
     ]
    }
   ],
   "source": [
    "'''18. Develop a program that converts a given temperature from Celsius to Fahrenheit.'''\n",
    "\n",
    "cel = float(input(\"Enter temperature in Celsius: \"))\n",
    "\n",
    "far = cel * 1.8 + 32\n",
    "\n",
    "print(f'Temperature in Fahrenheit is {far}')"
   ]
  },
  {
   "cell_type": "code",
   "execution_count": 61,
   "id": "6b720c32",
   "metadata": {},
   "outputs": [
    {
     "name": "stdout",
     "output_type": "stream",
     "text": [
      "Enter number: 4\n",
      "Enter number: 7\n",
      "Enter operation(add, subtract, multiply, divide): *\n",
      "28\n"
     ]
    }
   ],
   "source": [
    "'''19. Create a program that simulates a basic calculator for addition, subtraction, multiplication, and division.'''\n",
    "\n",
    "a = int(input(\"Enter number: \"))\n",
    "b = int(input(\"Enter number: \"))\n",
    "op = input(\"Enter operation(add, subtract, multiply, divide): \").lower()\n",
    "\n",
    "if op == '+' or op == 'add':\n",
    "    print(a+b)\n",
    "elif op == '-' or op == 'subtract':\n",
    "    print(a-b)\n",
    "elif op == '*' or op == 'multiply':\n",
    "    print(a*b)\n",
    "else:\n",
    "    print(a/b)"
   ]
  },
  {
   "cell_type": "code",
   "execution_count": 64,
   "id": "cd8177d1",
   "metadata": {},
   "outputs": [
    {
     "name": "stdout",
     "output_type": "stream",
     "text": [
      "Enter the coefficient 'a': 1\n",
      "Enter the coefficient 'b': -6\n",
      "Enter the coefficient 'c': 11\n",
      "Enter the coefficient 'd': -6\n",
      "[(1.5+0.2886751345948131j), (2.5-0.288675134594813j), (2+0.5773502691896258j)]\n"
     ]
    }
   ],
   "source": [
    "'''20. Write a program that determines the roots of a cubic equation using the Cardano formula.\n",
    "'''\n",
    "import cmath\n",
    "\n",
    "a = float(input(\"Enter the coefficient 'a': \"))\n",
    "b = float(input(\"Enter the coefficient 'b': \"))\n",
    "c = float(input(\"Enter the coefficient 'c': \"))\n",
    "d = float(input(\"Enter the coefficient 'd': \"))\n",
    "\n",
    "p = (3*a*c - b**2) / (3*a**2)\n",
    "q = (2*b**3 - 9*a*b*c + 27*a**2*d) / (27*a**3)\n",
    "discriminant = q**2/4 + p**3/27\n",
    "\n",
    "if discriminant > 0:\n",
    "    # Three real roots\n",
    "    root_term1 = -q/2 + cmath.sqrt(discriminant)\n",
    "    root_term2 = -q/2 - cmath.sqrt(discriminant)\n",
    "    root1 = root_term1**(1/3) + root_term2**(1/3) - b/(3*a)\n",
    "    print(root1)\n",
    "elif discriminant == 0:\n",
    "    # One real root (two roots coincide)\n",
    "    root = -q/2 - (p/3)**(1/3)\n",
    "    print(root)\n",
    "else:\n",
    "    # Three complex roots\n",
    "    root_term1 = cmath.exp(2j * cmath.pi / 3)\n",
    "    root_term2 = -q/2 + cmath.sqrt(discriminant)\n",
    "    root1 = root_term2**(1/3) * root_term1 - b/(3*a)\n",
    "    root2 = root_term2**(1/3) * cmath.exp(-1j * cmath.pi / 3) - b/(3*a)\n",
    "    root3 = root_term2**(1/3) * cmath.exp(1j * cmath.pi / 3) - b/(3*a)\n",
    "    print( [root1, root2, root3] )"
   ]
  },
  {
   "cell_type": "markdown",
   "id": "410fbaf3",
   "metadata": {},
   "source": [
    "## Advanced Level:"
   ]
  },
  {
   "cell_type": "code",
   "execution_count": 2,
   "id": "a8b35cdb",
   "metadata": {},
   "outputs": [
    {
     "name": "stdout",
     "output_type": "stream",
     "text": [
      "Enter your income: 23000\n",
      "Your income tax is: 3600.0\n"
     ]
    }
   ],
   "source": [
    "'''21. Create a program that calculates the income tax based on the user's income and tax brackets.\n",
    "'''\n",
    "\n",
    "def calculate_tax(income):\n",
    "    tax_brackets = [\n",
    "        (10000, 0.1),\n",
    "        (40000, 0.2),\n",
    "        (80000, 0.3),\n",
    "        (None, 0.4)\n",
    "    ]\n",
    "\n",
    "    tax_owed = 0\n",
    "    remaining_income = income\n",
    "\n",
    "    for bracket in tax_brackets:\n",
    "        if remaining_income == 0:\n",
    "            break\n",
    "\n",
    "        bracket_limit, tax_rate = bracket\n",
    "\n",
    "        if bracket_limit is None or remaining_income <= bracket_limit:\n",
    "            tax_owed += remaining_income * tax_rate\n",
    "            break\n",
    "        else:\n",
    "            tax_owed += bracket_limit * tax_rate\n",
    "            remaining_income -= bracket_limit\n",
    "\n",
    "    return tax_owed\n",
    "\n",
    "def main():\n",
    "    while True:\n",
    "        try:\n",
    "            income = float(input(\"Enter your income: \"))\n",
    "            if income < 0:\n",
    "                print(\"Income cannot be negative. Please enter a valid income.\")\n",
    "                continue\n",
    "            tax = calculate_tax(income)\n",
    "            print(f\"Your income tax is: {tax}\")\n",
    "            break\n",
    "        except ValueError:\n",
    "            print(\"Please enter a valid number for income.\")\n",
    "\n",
    "if __name__ == \"__main__\":\n",
    "    main()\n"
   ]
  },
  {
   "cell_type": "code",
   "execution_count": 2,
   "id": "8d1989c3",
   "metadata": {},
   "outputs": [
    {
     "name": "stdout",
     "output_type": "stream",
     "text": [
      "Let's play rock, paper, scissor...\n",
      "Enter ROCK, PAPER or SCISSOR: scissor\n",
      "Computer chose: paper \n",
      "Player won\n"
     ]
    }
   ],
   "source": [
    "'''22. Write a program that simulates a rock-paper-scissors game against the computer.'''\n",
    "\n",
    "import random \n",
    "\n",
    "def user_input():\n",
    "    while True:\n",
    "        user_in = input(\"Enter ROCK, PAPER or SCISSOR: \").strip().lower()\n",
    "        if user_in in ['rock', 'paper', 'scissor']:\n",
    "            return user_in\n",
    "        else:\n",
    "            print(\"Invalid choice. Please enter Rock, Paper, or Scissors.\")\n",
    "\n",
    "def get_comp_choice():\n",
    "    choices = ['rock', 'paper', 'scissor']\n",
    "    \n",
    "    return random.choice(choices)\n",
    "\n",
    "def playing(user_input, comp_choice):\n",
    "    \n",
    "    if user_input == comp_choice:\n",
    "        return \"It's a tie\"\n",
    "    elif (user_input == 'rock' and comp_choice == 'scissor' ) or (user_input == 'paper' and comp_choice == 'rock' ) or (user_input == 'scissor' and comp_choice == 'paper'):\n",
    "        return 'Player won'\n",
    "    else:\n",
    "        return 'Player lost. Computer Won.'\n",
    "    \n",
    "def main():\n",
    "    \n",
    "    print(\"Let's play rock, paper, scissor...\")\n",
    "    \n",
    "    user_choice = user_input()\n",
    "    comp_choice = get_comp_choice()\n",
    "    \n",
    "    print(f\"Computer chose: {comp_choice} \")\n",
    "    \n",
    "    return print(playing(user_choice, comp_choice))\n",
    "    \n",
    "    \n",
    "if __name__ == \"__main__\":\n",
    "    main()"
   ]
  },
  {
   "cell_type": "code",
   "execution_count": 7,
   "id": "acd34a2e",
   "metadata": {},
   "outputs": [
    {
     "name": "stdout",
     "output_type": "stream",
     "text": [
      "Enter desired length of password: 20\n",
      "Enter desired complexity of password ('simple', 'medium', 'complex'): complex\n",
      "z.'41Hm]|F\\JJ|o.=w44\n"
     ]
    }
   ],
   "source": [
    "'''23. Develop a program that generates a random password based on user preferences (length, complexity).'''\n",
    "\n",
    "import string\n",
    "import random\n",
    "\n",
    "def pass_generator(length, complexity):\n",
    "    \n",
    "    pass_characters = string.ascii_letters + string.digits + string.punctuation\n",
    "    \n",
    "    if complexity == 'simple':\n",
    "        pass_characters = string.ascii_letters\n",
    "    elif complexity == 'medium':\n",
    "        pass_characters = string.ascii_letters + string.digits\n",
    "    elif complexity == 'complex':\n",
    "        pass_characters = string.ascii_letters + string.digits + string.punctuation\n",
    "        \n",
    "    password = ''.join(random.choice(pass_characters) for i in range(length))\n",
    "    \n",
    "    return password\n",
    "\n",
    "def main():\n",
    "    user_length = int(input(\"Enter desired length of password: \"))\n",
    "    user_complexity = input(\"Enter desired complexity of password ('simple', 'medium', 'complex'): \").strip().lower()\n",
    "    \n",
    "    return print(pass_generator(user_length, user_complexity))\n",
    "\n",
    "if __name__ == '__main__':\n",
    "    main()"
   ]
  },
  {
   "cell_type": "code",
   "execution_count": 1,
   "id": "a9022d8a",
   "metadata": {},
   "outputs": [
    {
     "name": "stdout",
     "output_type": "stream",
     "text": [
      "Welcome to the Text Adventure Game!\n",
      "You find yourself in a mysterious place...\n",
      "Your goal is to reach the treasure at the end of the journey.\n",
      "\n",
      "Which path will you choose?\n",
      "1. Go left\n",
      "2. Go right\n",
      "Enter your choice (1 or 2): 1\n",
      "\n",
      "You chose to go left.\n",
      "You encounter a river.\n",
      "What do you want to do?\n",
      "1. Try to swim across\n",
      "2. Look for a bridge\n",
      "Enter your choice (1 or 2): 2\n",
      "You found a hidden bridge and crossed safely.\n",
      "\n",
      "Congratulations! You found the treasure!\n",
      "Thanks for playing the Text Adventure Game!\n"
     ]
    }
   ],
   "source": [
    "'''24. Create a program that implements a simple text-based adventure game with branching scenarios.'''\n",
    "\n",
    "def intro():\n",
    "    print(\"Welcome to the Text Adventure Game!\")\n",
    "    print(\"You find yourself in a mysterious place...\")\n",
    "    print(\"Your goal is to reach the treasure at the end of the journey.\")\n",
    "\n",
    "def choose_path():\n",
    "    print(\"\\nWhich path will you choose?\")\n",
    "    print(\"1. Go left\")\n",
    "    print(\"2. Go right\")\n",
    "    choice = input(\"Enter your choice (1 or 2): \")\n",
    "    if choice == \"1\":\n",
    "        path_left()\n",
    "    elif choice == \"2\":\n",
    "        path_right()\n",
    "    else:\n",
    "        print(\"Invalid choice. Please enter 1 or 2.\")\n",
    "        choose_path()\n",
    "\n",
    "def path_left():\n",
    "    print(\"\\nYou chose to go left.\")\n",
    "    print(\"You encounter a river.\")\n",
    "    print(\"What do you want to do?\")\n",
    "    print(\"1. Try to swim across\")\n",
    "    print(\"2. Look for a bridge\")\n",
    "    choice = input(\"Enter your choice (1 or 2): \")\n",
    "    if choice == \"1\":\n",
    "        print(\"You were swept away by the strong currents. Game Over!\")\n",
    "    elif choice == \"2\":\n",
    "        print(\"You found a hidden bridge and crossed safely.\")\n",
    "        treasure()\n",
    "    else:\n",
    "        print(\"Invalid choice. Please enter 1 or 2.\")\n",
    "        path_left()\n",
    "\n",
    "def path_right():\n",
    "    print(\"\\nYou chose to go right.\")\n",
    "    print(\"You come across a dark cave.\")\n",
    "    print(\"What will you do?\")\n",
    "    print(\"1. Enter the cave\")\n",
    "    print(\"2. Find another route\")\n",
    "    choice = input(\"Enter your choice (1 or 2): \")\n",
    "    if choice == \"1\":\n",
    "        print(\"You bravely enter the cave and find the treasure!\")\n",
    "        treasure()\n",
    "    elif choice == \"2\":\n",
    "        print(\"You search for another way but get lost. Game Over!\")\n",
    "    else:\n",
    "        print(\"Invalid choice. Please enter 1 or 2.\")\n",
    "        path_right()\n",
    "\n",
    "def treasure():\n",
    "    print(\"\\nCongratulations! You found the treasure!\")\n",
    "    print(\"Thanks for playing the Text Adventure Game!\")\n",
    "\n",
    "# Main game loop\n",
    "def play_game():\n",
    "    intro()\n",
    "    choose_path()\n",
    "\n",
    "if __name__ == '__main__':\n",
    "    play_game()"
   ]
  },
  {
   "cell_type": "code",
   "execution_count": 2,
   "id": "e1b6ec00",
   "metadata": {},
   "outputs": [
    {
     "name": "stdout",
     "output_type": "stream",
     "text": [
      "Case 1: 2x + 3 = 11\n",
      "The solution for x is: 4.0\n",
      "Case 2: 0x + 0 = 0\n",
      "Infinite solutions: Any value of x satisfies the equation.\n",
      "Case 3: 0x + 4 = 4\n",
      "Infinite solutions: Any value of x satisfies the equation.\n",
      "Case 4: 5x + 8 = 12\n",
      "The solution for x is: 0.8\n"
     ]
    }
   ],
   "source": [
    "'''25. Build a program that solves a linear equation for x, considering different cases.'''\n",
    "\n",
    "def solve_linear_equation(a, b, c):\n",
    "    if a == 0:\n",
    "        if b == c:\n",
    "            print(\"Infinite solutions: Any value of x satisfies the equation.\")\n",
    "        else:\n",
    "            print(\"No solution: The equation is inconsistent.\")\n",
    "    else:\n",
    "        x = (c - b) / a\n",
    "        print(f\"The solution for x is: {x}\")\n",
    "\n",
    "# Example cases to test the function\n",
    "# Feel free to change these values to test different equations\n",
    "a_values = [2, 0, 0, 5]\n",
    "b_values = [3, 0, 4, 8]\n",
    "c_values = [11, 0, 4, 12]\n",
    "\n",
    "for i in range(len(a_values)):\n",
    "    print(f\"Case {i+1}: {a_values[i]}x + {b_values[i]} = {c_values[i]}\")\n",
    "    solve_linear_equation(a_values[i], b_values[i], c_values[i])"
   ]
  },
  {
   "cell_type": "code",
   "execution_count": 1,
   "id": "6fd07d1c",
   "metadata": {},
   "outputs": [
    {
     "name": "stdout",
     "output_type": "stream",
     "text": [
      "\n",
      "What is the capital of France?\n",
      "1. London\n",
      "2. Paris\n",
      "3. Berlin\n",
      "4. Madrid\n",
      "Enter the number of your answer: 1\n",
      "Wrong! The correct answer is 2\n",
      "\n",
      "\n",
      "Which planet is known as the Red Planet?\n",
      "1. Mars\n",
      "2. Jupiter\n",
      "3. Venus\n",
      "4. Saturn\n",
      "Enter the number of your answer: 2\n",
      "Wrong! The correct answer is 1\n",
      "\n",
      "\n",
      "What is the largest mammal?\n",
      "1. Elephant\n",
      "2. Blue Whale\n",
      "3. Giraffe\n",
      "4. Hippopotamus\n",
      "Enter the number of your answer: 3\n",
      "Wrong! The correct answer is 2\n",
      "\n",
      "\n",
      "Quiz completed! Your final score is: 0/3\n"
     ]
    }
   ],
   "source": [
    "'''26. Write a program that simulates a basic quiz game with multiple-choice questions and scoring.'''\n",
    "\n",
    "def display_question(question, options):\n",
    "    print(f\"\\n{question}\")\n",
    "    for i, option in enumerate(options, start=1):\n",
    "        print(f\"{i}. {option}\")\n",
    "\n",
    "def get_user_answer(options_count):\n",
    "    while True:\n",
    "        try:\n",
    "            user_input = int(input(\"Enter the number of your answer: \"))\n",
    "            if 1 <= user_input <= options_count:\n",
    "                return user_input\n",
    "            else:\n",
    "                print(\"Invalid input. Please enter a valid option number.\")\n",
    "        except ValueError:\n",
    "            print(\"Invalid input. Please enter a valid option number.\")\n",
    "\n",
    "def evaluate_answer(correct_option, user_answer):\n",
    "    if user_answer == correct_option:\n",
    "        print(\"Correct!\\n\")\n",
    "        return 1\n",
    "    else:\n",
    "        print(f\"Wrong! The correct answer is {correct_option}\\n\")\n",
    "        return 0\n",
    "\n",
    "def run_quiz(questions):\n",
    "    score = 0\n",
    "    for question_data in questions:\n",
    "        question = question_data['question']\n",
    "        options = question_data['options']\n",
    "        correct_option = question_data['correct_option']\n",
    "\n",
    "        display_question(question, options)\n",
    "        user_answer = get_user_answer(len(options))\n",
    "        score += evaluate_answer(correct_option, user_answer)\n",
    "\n",
    "    print(f\"\\nQuiz completed! Your final score is: {score}/{len(questions)}\")\n",
    "\n",
    "questions_list = [\n",
    "    {\n",
    "        'question': 'What is the capital of France?',\n",
    "        'options': ['London', 'Paris', 'Berlin', 'Madrid'],\n",
    "        'correct_option': 2\n",
    "    },\n",
    "    {\n",
    "        'question': 'Which planet is known as the Red Planet?',\n",
    "        'options': ['Mars', 'Jupiter', 'Venus', 'Saturn'],\n",
    "        'correct_option': 1\n",
    "    },\n",
    "    {\n",
    "        'question': 'What is the largest mammal?',\n",
    "        'options': ['Elephant', 'Blue Whale', 'Giraffe', 'Hippopotamus'],\n",
    "        'correct_option': 2\n",
    "    }\n",
    "]\n",
    "\n",
    "run_quiz(questions_list)\n"
   ]
  },
  {
   "cell_type": "code",
   "execution_count": 3,
   "id": "55d4cb69",
   "metadata": {},
   "outputs": [
    {
     "name": "stdout",
     "output_type": "stream",
     "text": [
      "Enter year: 2024\n",
      "No, 2024 is not prime\n"
     ]
    }
   ],
   "source": [
    "'''27. Develop a program that determines whether a given year is a prime number or not.'''\n",
    "\n",
    "def is_prime(year):\n",
    "    if year < 2:\n",
    "        return False\n",
    "    for i in range(2, int(year**0.5) + 1):\n",
    "        if year % i == 0:\n",
    "            return False\n",
    "    return True\n",
    "\n",
    "def main():\n",
    "    year = int(input(\"Enter year: \"))\n",
    "    \n",
    "    if is_prime(year):\n",
    "        print(f\"Yes, {year} is prime \")\n",
    "    else:\n",
    "        print(f\"No, {year} is not prime\")\n",
    "\n",
    "main()"
   ]
  },
  {
   "cell_type": "code",
   "execution_count": 6,
   "id": "2c5f8849",
   "metadata": {},
   "outputs": [
    {
     "name": "stdout",
     "output_type": "stream",
     "text": [
      "Enter the first number: 22\n",
      "Enter the second number: 2\n",
      "Enter the third number: 1\n",
      "Sorted Numbers: (1, 2, 22)\n"
     ]
    }
   ],
   "source": [
    "'''28. Create a program that sorts three numbers in ascending order using conditional statements.'''\n",
    "\n",
    "def sort_numbers(num1, num2, num3):\n",
    "    if num1 <= num2 <= num3:\n",
    "        return num1, num2, num3\n",
    "    elif num1 <= num3 <= num2:\n",
    "        return num1, num3, num2\n",
    "    elif num2 <= num1 <= num3:\n",
    "        return num2, num1, num3\n",
    "    elif num2 <= num3 <= num1:\n",
    "        return num2, num3, num1\n",
    "    elif num3 <= num1 <= num2:\n",
    "        return num3, num1, num2\n",
    "    else:\n",
    "        return num3, num2, num1\n",
    "\n",
    "def main():\n",
    "    num1 = int(input(\"Enter the first number: \"))\n",
    "    num2 = int(input(\"Enter the second number: \"))\n",
    "    num3 = int(input(\"Enter the third number: \"))\n",
    "\n",
    "    sorted_numbers = sort_numbers(num1, num2, num3)\n",
    "    print(\"Sorted Numbers:\", sorted_numbers)\n",
    "\n",
    "main()\n",
    "\n"
   ]
  },
  {
   "cell_type": "code",
   "execution_count": 9,
   "id": "0372ce60",
   "metadata": {},
   "outputs": [
    {
     "name": "stdout",
     "output_type": "stream",
     "text": [
      "Enter the coefficient a: 2\n",
      "Enter the coefficient b: 5\n",
      "Enter the coefficient c: 3\n",
      "Enter the coefficient d: 2\n",
      "Enter the coefficient e: 10\n",
      "Roots of the quartic equation: [-1.75577146+0.7863896j -1.75577146-0.7863896j  0.50577146+1.0464844j\n",
      "  0.50577146-1.0464844j]\n"
     ]
    }
   ],
   "source": [
    "'''29. Build a program that determines the roots of a quartic equation using numerical methods.'''\n",
    "\n",
    "import numpy as np\n",
    "\n",
    "def quartic_equation_roots(coefficients):\n",
    "    roots = np.roots(coefficients)\n",
    "    return roots\n",
    "\n",
    "def main():\n",
    "    # Input coefficients of the quartic equation in the form ax^4 + bx^3 + cx^2 + dx + e = 0\n",
    "    a = int(input(\"Enter the coefficient a: \"))\n",
    "    b = int(input(\"Enter the coefficient b: \"))\n",
    "    c = int(input(\"Enter the coefficient c: \"))\n",
    "    d = int(input(\"Enter the coefficient d: \"))\n",
    "    e = int(input(\"Enter the coefficient e: \"))\n",
    "\n",
    "    coefficients = [a, b, c, d, e]\n",
    "\n",
    "    # Find roots using numerical methods\n",
    "    roots = quartic_equation_roots(coefficients)\n",
    "\n",
    "    print(\"Roots of the quartic equation:\", roots)\n",
    "\n",
    "main()\n"
   ]
  },
  {
   "cell_type": "code",
   "execution_count": 10,
   "id": "a66dd545",
   "metadata": {},
   "outputs": [
    {
     "name": "stdout",
     "output_type": "stream",
     "text": [
      "Enter your weight in kilograms: 60\n",
      "Enter your height in meters: 1.83\n",
      "\n",
      "Your BMI is: 17.92\n",
      "Interpretation: Underweight\n",
      "Health Recommendation: Consider consulting a healthcare professional for advice on nutrition.\n"
     ]
    }
   ],
   "source": [
    "'''30. Write a program that calculates the BMI (Body Mass Index) and provides health recommendations based\n",
    "on the user's input.'''\n",
    "\n",
    "def calculate_bmi(weight, height):\n",
    "    # Formula for BMI: weight (kg) / (height (m))^2\n",
    "    bmi = weight / (height ** 2)\n",
    "    return bmi\n",
    "\n",
    "def interpret_bmi(bmi):\n",
    "    if bmi < 18.5:\n",
    "        return \"Underweight\"\n",
    "    elif 18.5 <= bmi < 24.9:\n",
    "        return \"Normal weight\"\n",
    "    elif 25 <= bmi < 29.9:\n",
    "        return \"Overweight\"\n",
    "    else:\n",
    "        return \"Obese\"\n",
    "\n",
    "def main():\n",
    "    # Input user details\n",
    "    weight = float(input(\"Enter your weight in kilograms: \"))\n",
    "    height = float(input(\"Enter your height in meters: \"))\n",
    "\n",
    "    # Calculate BMI\n",
    "    bmi = calculate_bmi(weight, height)\n",
    "\n",
    "    # Interpret BMI and provide health recommendation\n",
    "    health_status = interpret_bmi(bmi)\n",
    "\n",
    "    # Display results\n",
    "    print(f\"\\nYour BMI is: {bmi:.2f}\")\n",
    "    print(f\"Interpretation: {health_status}\")\n",
    "\n",
    "    if health_status in [\"Overweight\", \"Obese\"]:\n",
    "        print(\"Health Recommendation: Consider consulting a healthcare professional for advice.\")\n",
    "    elif health_status == \"Underweight\":\n",
    "        print(\"Health Recommendation: Consider consulting a healthcare professional for advice on nutrition.\")\n",
    "    else:\n",
    "        print(\"Health Recommendation: Maintain a healthy lifestyle with balanced nutrition and regular exercise.\")\n",
    "\n",
    "main()\n"
   ]
  },
  {
   "cell_type": "markdown",
   "id": "04ff1840",
   "metadata": {},
   "source": [
    "## Challenge level"
   ]
  },
  {
   "cell_type": "code",
   "execution_count": 13,
   "id": "8dab0d45",
   "metadata": {},
   "outputs": [
    {
     "name": "stdout",
     "output_type": "stream",
     "text": [
      "Enter your password: Rahul123\n",
      "Password is not valid. Please ensure it meets the complexity requirements.\n"
     ]
    }
   ],
   "source": [
    "'''31. Create a program that validates a password based on complexity rules (length, characters, etc.).'''\n",
    "\n",
    "def is_valid_password(password):\n",
    "    # Check if password meets the length requirement\n",
    "    if len(password) < 8:\n",
    "        return False\n",
    "    \n",
    "    # Check if password contains at least one uppercase letter\n",
    "    if not any(char.isupper() for char in password):\n",
    "        return False\n",
    "    \n",
    "    # Check if password contains at least one lowercase letter\n",
    "    if not any(char.islower() for char in password):\n",
    "        return False\n",
    "    \n",
    "    # Check if password contains at least one digit\n",
    "    if not any(char.isdigit() for char in password):\n",
    "        return False\n",
    "    \n",
    "    # Check if password contains at least one special character\n",
    "    special_characters = r'[!@#$%^&*(),.?\":{}|<>]'\n",
    "    for i in password:\n",
    "        if i not in special_characters:\n",
    "            return False\n",
    "    \n",
    "    # If all checks pass, the password is valid\n",
    "    return True\n",
    "\n",
    "def main():\n",
    "    password = input(\"Enter your password: \")\n",
    "    \n",
    "    if is_valid_password(password):\n",
    "        print(\"Password is valid.\")\n",
    "    else:\n",
    "        print(\"Password is not valid. Please ensure it meets the complexity requirements.\")\n",
    "\n",
    "main()\n"
   ]
  },
  {
   "cell_type": "code",
   "execution_count": 15,
   "id": "0fdda4a2",
   "metadata": {},
   "outputs": [
    {
     "name": "stdout",
     "output_type": "stream",
     "text": [
      "\n",
      "Matrix Addition Result:\n",
      "[4, 7, 6]\n",
      "[6, 10, 12]\n",
      "[8, 15, 18]\n",
      "\n",
      "Matrix Subtraction Result:\n",
      "[-2, -3, 0]\n",
      "[2, 0, 0]\n",
      "[6, 1, 0]\n"
     ]
    }
   ],
   "source": [
    "'''32. Develop a program that performs matrix addition and subtraction based on user input.'''\n",
    "\n",
    "def matrix_addition(matrix1, matrix2):\n",
    "    result = [[matrix1[i][j] + matrix2[i][j] for j in range(len(matrix1[0]))] for i in range(len(matrix1))]\n",
    "    return result\n",
    "\n",
    "def matrix_subtraction(matrix1, matrix2):\n",
    "    result = [[matrix1[i][j] - matrix2[i][j] for j in range(len(matrix1[0]))] for i in range(len(matrix1))]\n",
    "    return result\n",
    "\n",
    "def print_matrix(matrix):\n",
    "    for row in matrix:\n",
    "        print(row)\n",
    "\n",
    "def main():\n",
    "    matrix1 = [\n",
    "        [1, 2, 3],\n",
    "        [4, 5, 6],\n",
    "        [7, 8, 9]\n",
    "    ]\n",
    "\n",
    "    matrix2 = [\n",
    "        [3, 5, 3],\n",
    "        [2, 5, 6],\n",
    "        [1, 7, 9]\n",
    "    ]\n",
    "\n",
    "    # Perform matrix addition and subtraction\n",
    "    result_addition = matrix_addition(matrix1, matrix2)\n",
    "    result_subtraction = matrix_subtraction(matrix1, matrix2)\n",
    "\n",
    "    # Display results\n",
    "    print(\"\\nMatrix Addition Result:\")\n",
    "    print_matrix(result_addition)\n",
    "\n",
    "    print(\"\\nMatrix Subtraction Result:\")\n",
    "    print_matrix(result_subtraction)\n",
    "\n",
    "main()\n"
   ]
  },
  {
   "cell_type": "code",
   "execution_count": 17,
   "id": "4656a4d9",
   "metadata": {},
   "outputs": [
    {
     "name": "stdout",
     "output_type": "stream",
     "text": [
      "Enter the first number: 24\n",
      "Enter the second number: 56\n",
      "The GCD of 24 and 56 is: 8\n"
     ]
    }
   ],
   "source": [
    "'''33. Write a program that calculates the greatest common divisor (GCD) of two numbers using the Euclidean\n",
    "algorithm.'''\n",
    "\n",
    "def euclidean_gcd(a, b):\n",
    "    while b:\n",
    "        a, b = b, a % b\n",
    "    return a\n",
    "\n",
    "def main():\n",
    "    # Input two numbers from the user\n",
    "    num1 = int(input(\"Enter the first number: \"))\n",
    "    num2 = int(input(\"Enter the second number: \"))\n",
    "\n",
    "    # Calculate the GCD using the Euclidean algorithm\n",
    "    gcd = euclidean_gcd(num1, num2)\n",
    "\n",
    "    # Display the result\n",
    "    print(f\"The GCD of {num1} and {num2} is: {gcd}\")\n",
    "    \n",
    "main()\n",
    "\n"
   ]
  },
  {
   "cell_type": "code",
   "execution_count": 18,
   "id": "5262fd7d",
   "metadata": {},
   "outputs": [
    {
     "name": "stdout",
     "output_type": "stream",
     "text": [
      "\n",
      "Matrix Multiplication Result:\n",
      "[10, 36, 42]\n",
      "[28, 87, 96]\n",
      "[46, 138, 150]\n"
     ]
    }
   ],
   "source": [
    "'''34. Build a program that performs matrix multiplication using nested loops and conditional statements.'''\n",
    "\n",
    "def matrix_multiply(matrix1, matrix2):\n",
    "    rows1, cols1 = len(matrix1), len(matrix1[0])\n",
    "    rows2, cols2 = len(matrix2), len(matrix2[0])\n",
    "\n",
    "    if cols1 != rows2:\n",
    "        print(\"Matrix multiplication is not possible. The number of columns in the first matrix must be equal to the number of rows in the second matrix.\")\n",
    "        return None\n",
    "\n",
    "    result = [[0 for _ in range(cols2)] for _ in range(rows1)]\n",
    "\n",
    "    for i in range(rows1):\n",
    "        for j in range(cols2):\n",
    "            for k in range(cols1):\n",
    "                result[i][j] += matrix1[i][k] * matrix2[k][j]\n",
    "\n",
    "    return result\n",
    "\n",
    "def print_matrix(matrix):\n",
    "    for row in matrix:\n",
    "        print(row)\n",
    "\n",
    "def main():\n",
    "    matrix1 = [\n",
    "        [1, 2, 3],\n",
    "        [4, 5, 6],\n",
    "        [7, 8, 9]\n",
    "    ]\n",
    "\n",
    "    matrix2 = [\n",
    "        [3, 5, 3],\n",
    "        [2, 5, 6],\n",
    "        [1, 7, 9]\n",
    "    ]\n",
    "    # Perform matrix multiplication\n",
    "    result = matrix_multiply(matrix1, matrix2)\n",
    "\n",
    "    # Display results\n",
    "    if result is not None:\n",
    "        print(\"\\nMatrix Multiplication Result:\")\n",
    "        print_matrix(result)\n",
    "\n",
    "main()\n"
   ]
  },
  {
   "cell_type": "code",
   "execution_count": 19,
   "id": "cf80669f",
   "metadata": {},
   "outputs": [
    {
     "name": "stdout",
     "output_type": "stream",
     "text": [
      "Welcome to Tic-Tac-Toe!\n",
      "  |   |  \n",
      "-----\n",
      "  |   |  \n",
      "-----\n",
      "  |   |  \n",
      "-----\n",
      "Enter the row (1, 2, or 3): x\n",
      "Invalid input. Enter a number.\n",
      "Enter the row (1, 2, or 3): 1\n",
      "Enter the column (1, 2, or 3): 1\n",
      "\n",
      "Computer's move:\n",
      "X |   | O\n",
      "-----\n",
      "  |   |  \n",
      "-----\n",
      "  |   |  \n",
      "-----\n",
      "Enter the row (1, 2, or 3): 2\n",
      "Enter the column (1, 2, or 3): 2\n",
      "\n",
      "Computer's move:\n",
      "X | O | O\n",
      "-----\n",
      "  | X |  \n",
      "-----\n",
      "  |   |  \n",
      "-----\n",
      "Enter the row (1, 2, or 3): 3\n",
      "Enter the column (1, 2, or 3): 3\n",
      "X | O | O\n",
      "-----\n",
      "  | X |  \n",
      "-----\n",
      "  |   | X\n",
      "-----\n",
      "Congratulations! You win!\n"
     ]
    }
   ],
   "source": [
    "'''35. Create a program that simulates a basic text-based tic-tac-toe game against the computer.'''\n",
    "\n",
    "import random\n",
    "\n",
    "def print_board(board):\n",
    "    for row in board:\n",
    "        print(\" | \".join(row))\n",
    "        print(\"-\" * 5)\n",
    "\n",
    "def is_winner(board, player):\n",
    "    # Check rows, columns, and diagonals for a win\n",
    "    for i in range(3):\n",
    "        if all(cell == player for cell in board[i]) or all(board[j][i] == player for j in range(3)):\n",
    "            return True\n",
    "    if all(board[i][i] == player for i in range(3)) or all(board[i][2 - i] == player for i in range(3)):\n",
    "        return True\n",
    "    return False\n",
    "\n",
    "def is_board_full(board):\n",
    "    return all(all(cell != ' ' for cell in row) for row in board)\n",
    "\n",
    "def get_empty_cells(board):\n",
    "    empty_cells = [(i, j) for i in range(3) for j in range(3) if board[i][j] == ' ']\n",
    "    return empty_cells\n",
    "\n",
    "def player_move(board):\n",
    "    while True:\n",
    "        try:\n",
    "            row = int(input(\"Enter the row (1, 2, or 3): \")) - 1\n",
    "            col = int(input(\"Enter the column (1, 2, or 3): \")) - 1\n",
    "\n",
    "            if 0 <= row < 3 and 0 <= col < 3 and board[row][col] == ' ':\n",
    "                return row, col\n",
    "            else:\n",
    "                print(\"Invalid move. Try again.\")\n",
    "\n",
    "        except ValueError:\n",
    "            print(\"Invalid input. Enter a number.\")\n",
    "\n",
    "def computer_move(board):\n",
    "    empty_cells = get_empty_cells(board)\n",
    "    return random.choice(empty_cells)\n",
    "\n",
    "def main():\n",
    "    board = [[' ' for _ in range(3)] for _ in range(3)]\n",
    "    player_symbol = 'X'\n",
    "    computer_symbol = 'O'\n",
    "\n",
    "    print(\"Welcome to Tic-Tac-Toe!\")\n",
    "\n",
    "    while True:\n",
    "        print_board(board)\n",
    "\n",
    "        # Player's move\n",
    "        player_row, player_col = player_move(board)\n",
    "        board[player_row][player_col] = player_symbol\n",
    "\n",
    "        # Check if the player wins\n",
    "        if is_winner(board, player_symbol):\n",
    "            print_board(board)\n",
    "            print(\"Congratulations! You win!\")\n",
    "            break\n",
    "\n",
    "        # Check if the board is full\n",
    "        if is_board_full(board):\n",
    "            print_board(board)\n",
    "            print(\"It's a tie!\")\n",
    "            break\n",
    "\n",
    "        # Computer's move\n",
    "        print(\"\\nComputer's move:\")\n",
    "        computer_row, computer_col = computer_move(board)\n",
    "        board[computer_row][computer_col] = computer_symbol\n",
    "\n",
    "        # Check if the computer wins\n",
    "        if is_winner(board, computer_symbol):\n",
    "            print_board(board)\n",
    "            print(\"Sorry, you lose. Better luck next time!\")\n",
    "            break\n",
    "\n",
    "if __name__ == \"__main__\":\n",
    "    main()"
   ]
  },
  {
   "cell_type": "code",
   "execution_count": 20,
   "id": "39c2013d",
   "metadata": {},
   "outputs": [
    {
     "name": "stdout",
     "output_type": "stream",
     "text": [
      "Enter the number of Fibonacci terms to generate: 10\n",
      "Fibonacci Sequence up to term 10:\n",
      "[0, 1, 1, 2, 3, 5, 8, 13, 21, 34]\n"
     ]
    }
   ],
   "source": [
    "'''36. Write a program that generates Fibonacci numbers up to a specified term using iterative methods.'''\n",
    "\n",
    "def generate_fibonacci(n):\n",
    "    fibonacci_sequence = [0, 1]\n",
    "\n",
    "    while len(fibonacci_sequence) < n:\n",
    "        next_term = fibonacci_sequence[-1] + fibonacci_sequence[-2]\n",
    "        fibonacci_sequence.append(next_term)\n",
    "\n",
    "    return fibonacci_sequence\n",
    "\n",
    "def main():\n",
    "    # Input the number of terms in the Fibonacci sequence\n",
    "    n = int(input(\"Enter the number of Fibonacci terms to generate: \"))\n",
    "\n",
    "    if n <= 0:\n",
    "        print(\"Please enter a positive integer.\")\n",
    "        return\n",
    "\n",
    "    # Generate and print Fibonacci sequence\n",
    "    fibonacci_sequence = generate_fibonacci(n)\n",
    "    print(f\"Fibonacci Sequence up to term {n}:\")\n",
    "    print(fibonacci_sequence)\n",
    "\n",
    "main()\n"
   ]
  },
  {
   "cell_type": "code",
   "execution_count": 21,
   "id": "29b754bb",
   "metadata": {},
   "outputs": [
    {
     "name": "stdout",
     "output_type": "stream",
     "text": [
      "Enter the value of n for the nth Fibonacci term: 10\n",
      "The 10th Fibonacci term is: 34\n"
     ]
    }
   ],
   "source": [
    "'''37. Develop a program that calculates the nth term of the Fibonacci sequence using memoization.'''\n",
    "\n",
    "def fibonacci_memoization(n, memo={}):\n",
    "    if n <= 0:\n",
    "        return \"Invalid input. Please enter a positive integer.\"\n",
    "    elif n == 1:\n",
    "        return 0\n",
    "    elif n == 2:\n",
    "        return 1\n",
    "    elif n in memo:\n",
    "        return memo[n]\n",
    "    else:\n",
    "        result = fibonacci_memoization(n - 1, memo) + fibonacci_memoization(n - 2, memo)\n",
    "        memo[n] = result\n",
    "        return result\n",
    "\n",
    "def main():\n",
    "    # Input the value of n\n",
    "    n = int(input(\"Enter the value of n for the nth Fibonacci term: \"))\n",
    "\n",
    "    # Calculate and print the nth Fibonacci term\n",
    "    result = fibonacci_memoization(n)\n",
    "    print(f\"The {n}th Fibonacci term is: {result}\")\n",
    "\n",
    "main()\n"
   ]
  },
  {
   "cell_type": "code",
   "execution_count": 22,
   "id": "9514ac52",
   "metadata": {},
   "outputs": [
    {
     "name": "stdout",
     "output_type": "stream",
     "text": [
      "Enter the year: 2023\n",
      "Enter the month (1-12): 3\n",
      "\n",
      "March 2023\n",
      " Mo Tu We Th Fr Sa Su\n",
      "         1   2   3   4   5  \n",
      " 6   7   8   9  10  11  12  \n",
      "13  14  15  16  17  18  19  \n",
      "20  21  22  23  24  25  26  \n",
      "27  28  29  30  31          \n"
     ]
    }
   ],
   "source": [
    "'''38. Create a program that generates a calendar for a given month and year using conditional statements.'''\n",
    "\n",
    "import calendar\n",
    "\n",
    "def generate_calendar(year, month):\n",
    "    try:\n",
    "        # Print the calendar for the specified month and year\n",
    "        cal = calendar.monthcalendar(year, month)\n",
    "\n",
    "        # Display the calendar header\n",
    "        print(f\"\\n{calendar.month_name[month]} {year}\")\n",
    "        print(\" Mo Tu We Th Fr Sa Su\")\n",
    "\n",
    "        # Display the calendar body\n",
    "        for week in cal:\n",
    "            for day in week:\n",
    "                if day == 0:\n",
    "                    print(\"   \", end=\" \")\n",
    "                else:\n",
    "                    print(f\"{day:2} \", end=\" \")\n",
    "            print()  # Move to the next line after each week\n",
    "\n",
    "    except ValueError:\n",
    "        print(\"Invalid input. Please enter valid numerical values for year and month.\")\n",
    "\n",
    "def main():\n",
    "    try:\n",
    "        # Input the year and month\n",
    "        year = int(input(\"Enter the year: \"))\n",
    "        month = int(input(\"Enter the month (1-12): \"))\n",
    "\n",
    "        if 1 <= month <= 12:\n",
    "            generate_calendar(year, month)\n",
    "        else:\n",
    "            print(\"Invalid month. Please enter a value between 1 and 12.\")\n",
    "\n",
    "    except ValueError:\n",
    "        print(\"Invalid input. Please enter valid numerical values.\")\n",
    "\n",
    "\n",
    "main()\n"
   ]
  },
  {
   "cell_type": "code",
   "execution_count": 23,
   "id": "86628029",
   "metadata": {},
   "outputs": [
    {
     "name": "stdout",
     "output_type": "stream",
     "text": [
      "Welcome to Blackjack!\n",
      "Your cards: [5, 7], current score: 12\n",
      "Computer's first card: 10\n",
      "Type 'y' to get another card, 'n' to pass: y\n",
      "Your cards: [5, 7, 10], current score: 22\n",
      "Computer's first card: 10\n",
      "Your final hand: [5, 7, 10], final score: 22\n",
      "Computer's final hand: [10, 10], final score: 20\n",
      "You went over. You lose!\n"
     ]
    }
   ],
   "source": [
    "'''39. Build a program that simulates a basic text-based blackjack game against the computer.'''\n",
    "\n",
    "import random\n",
    "\n",
    "def deal_card():\n",
    "    cards = [2, 3, 4, 5, 6, 7, 8, 9, 10, 10, 10, 10, 11]\n",
    "    return random.choice(cards)\n",
    "\n",
    "def calculate_score(cards):\n",
    "    if sum(cards) == 21 and len(cards) == 2:\n",
    "        return 0  # Blackjack\n",
    "    if 11 in cards and sum(cards) > 21:\n",
    "        cards.remove(11)\n",
    "        cards.append(1)\n",
    "    return sum(cards)\n",
    "\n",
    "def compare(user_score, computer_score):\n",
    "    if user_score == computer_score:\n",
    "        return \"It's a draw!\"\n",
    "    elif computer_score == 0:\n",
    "        return \"You lose, computer has Blackjack!\"\n",
    "    elif user_score == 0:\n",
    "        return \"You win with a Blackjack!\"\n",
    "    elif user_score > 21:\n",
    "        return \"You went over. You lose!\"\n",
    "    elif computer_score > 21:\n",
    "        return \"Computer went over. You win!\"\n",
    "    elif user_score > computer_score:\n",
    "        return \"You win!\"\n",
    "    else:\n",
    "        return \"You lose!\"\n",
    "\n",
    "def play_game():\n",
    "    user_cards = []\n",
    "    computer_cards = []\n",
    "    is_game_over = False\n",
    "\n",
    "    for _ in range(2):\n",
    "        user_cards.append(deal_card())\n",
    "        computer_cards.append(deal_card())\n",
    "\n",
    "    while not is_game_over:\n",
    "        user_score = calculate_score(user_cards)\n",
    "        computer_score = calculate_score(computer_cards)\n",
    "\n",
    "        print(f\"Your cards: {user_cards}, current score: {user_score}\")\n",
    "        print(f\"Computer's first card: {computer_cards[0]}\")\n",
    "\n",
    "        if user_score == 0 or computer_score == 0 or user_score > 21:\n",
    "            is_game_over = True\n",
    "        else:\n",
    "            should_continue = input(\"Type 'y' to get another card, 'n' to pass: \")\n",
    "            if should_continue == 'y':\n",
    "                user_cards.append(deal_card())\n",
    "            else:\n",
    "                is_game_over = True\n",
    "\n",
    "    while computer_score != 0 and computer_score < 17:\n",
    "        computer_cards.append(deal_card())\n",
    "        computer_score = calculate_score(computer_cards)\n",
    "\n",
    "    print(f\"Your final hand: {user_cards}, final score: {user_score}\")\n",
    "    print(f\"Computer's final hand: {computer_cards}, final score: {computer_score}\")\n",
    "    print(compare(user_score, computer_score))\n",
    "\n",
    "def main():\n",
    "    print(\"Welcome to Blackjack!\")\n",
    "    play_game()\n",
    "\n",
    "\n",
    "main()\n"
   ]
  },
  {
   "cell_type": "code",
   "execution_count": 24,
   "id": "63f32d37",
   "metadata": {},
   "outputs": [
    {
     "name": "stdout",
     "output_type": "stream",
     "text": [
      "Enter a number to find its prime factors: 20\n",
      "Prime factors of 20: [2, 2, 5]\n"
     ]
    }
   ],
   "source": [
    "'''40. Write a program that generates the prime factors of a given number using trial division.'''\n",
    "\n",
    "def prime_factors(n):\n",
    "    factors = []\n",
    "    divisor = 2\n",
    "\n",
    "    while n > 1:\n",
    "        while n % divisor == 0:\n",
    "            factors.append(divisor)\n",
    "            n //= divisor\n",
    "        divisor += 1\n",
    "\n",
    "    return factors\n",
    "\n",
    "def main():\n",
    "    try:\n",
    "        # Input a number from the user\n",
    "        num = int(input(\"Enter a number to find its prime factors: \"))\n",
    "\n",
    "        if num <= 0:\n",
    "            print(\"Please enter a positive integer.\")\n",
    "            return\n",
    "\n",
    "        # Generate and print the prime factors\n",
    "        factors = prime_factors(num)\n",
    "        print(f\"Prime factors of {num}: {factors}\")\n",
    "\n",
    "    except ValueError:\n",
    "        print(\"Invalid input. Please enter a valid integer.\")\n",
    "\n",
    "main()\n"
   ]
  },
  {
   "cell_type": "code",
   "execution_count": null,
   "id": "62e49a68",
   "metadata": {},
   "outputs": [],
   "source": []
  },
  {
   "cell_type": "code",
   "execution_count": null,
   "id": "19f8f984",
   "metadata": {},
   "outputs": [],
   "source": []
  },
  {
   "cell_type": "code",
   "execution_count": null,
   "id": "6120d6dc",
   "metadata": {},
   "outputs": [],
   "source": []
  },
  {
   "cell_type": "code",
   "execution_count": null,
   "id": "00b0d8ee",
   "metadata": {},
   "outputs": [],
   "source": []
  },
  {
   "cell_type": "code",
   "execution_count": null,
   "id": "eee48e34",
   "metadata": {},
   "outputs": [],
   "source": []
  },
  {
   "cell_type": "code",
   "execution_count": null,
   "id": "b0a482c8",
   "metadata": {},
   "outputs": [],
   "source": []
  },
  {
   "cell_type": "code",
   "execution_count": null,
   "id": "d0014b12",
   "metadata": {},
   "outputs": [],
   "source": []
  }
 ],
 "metadata": {
  "kernelspec": {
   "display_name": "Python 3 (ipykernel)",
   "language": "python",
   "name": "python3"
  },
  "language_info": {
   "codemirror_mode": {
    "name": "ipython",
    "version": 3
   },
   "file_extension": ".py",
   "mimetype": "text/x-python",
   "name": "python",
   "nbconvert_exporter": "python",
   "pygments_lexer": "ipython3",
   "version": "3.8.8"
  }
 },
 "nbformat": 4,
 "nbformat_minor": 5
}
